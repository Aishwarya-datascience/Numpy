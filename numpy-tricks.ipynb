{
 "cells": [
  {
   "cell_type": "code",
   "execution_count": 1,
   "id": "a9a6c1c6-d691-4e1e-9398-2ea28a7f5650",
   "metadata": {},
   "outputs": [],
   "source": [
    "import numpy as np"
   ]
  },
  {
   "cell_type": "markdown",
   "id": "025f6de9-3fa6-42d0-85d3-6740ac41f128",
   "metadata": {},
   "source": [
    "# Mesgrids"
   ]
  },
  {
   "cell_type": "code",
   "execution_count": null,
   "id": "08f6fef3-827e-427f-93d1-bc1de4bf37ce",
   "metadata": {},
   "outputs": [],
   "source": []
  },
  {
   "cell_type": "markdown",
   "id": "443c2d43-8cb6-4e3b-9e9a-da48ebab3f65",
   "metadata": {},
   "source": [
    "# useful functions"
   ]
  },
  {
   "cell_type": "code",
   "execution_count": 4,
   "id": "b4533d51-4fda-45fb-9c28-2a31b26bddaf",
   "metadata": {},
   "outputs": [
    {
     "data": {
      "text/plain": [
       "array([51, 31, 69, 15, 57, 66, 50, 70, 95, 33, 66, 53, 43, 15, 14])"
      ]
     },
     "execution_count": 4,
     "metadata": {},
     "output_type": "execute_result"
    }
   ],
   "source": [
    "#np.sort \n",
    "a=np.random.randint(1,100,15)\n",
    "a"
   ]
  },
  {
   "cell_type": "code",
   "execution_count": 12,
   "id": "dc6f7599-0b1b-42d1-978c-ed00955cedc4",
   "metadata": {},
   "outputs": [
    {
     "data": {
      "text/plain": [
       "array([95, 70, 69, 66, 66, 57, 53, 51, 50, 43, 33, 31, 15, 15, 14])"
      ]
     },
     "execution_count": 12,
     "metadata": {},
     "output_type": "execute_result"
    }
   ],
   "source": [
    "np.sort(a)[::-1] # returns as an sorted array"
   ]
  },
  {
   "cell_type": "code",
   "execution_count": 8,
   "id": "d9a1839b-2971-4484-9d92-00a2e48589d9",
   "metadata": {},
   "outputs": [
    {
     "data": {
      "text/plain": [
       "array([[32, 63, 93, 82],\n",
       "       [77,  7, 55, 80],\n",
       "       [ 3, 47, 16, 45],\n",
       "       [55, 31, 49, 82],\n",
       "       [96, 98, 39, 42],\n",
       "       [71, 65, 89, 50]])"
      ]
     },
     "execution_count": 8,
     "metadata": {},
     "output_type": "execute_result"
    }
   ],
   "source": [
    "b=np.random.randint(1,100,24).reshape(6,4)\n",
    "b"
   ]
  },
  {
   "cell_type": "code",
   "execution_count": 10,
   "id": "dfe0288f-be2b-4480-923d-8f5873d21f41",
   "metadata": {},
   "outputs": [
    {
     "data": {
      "text/plain": [
       "array([[ 3,  7, 16, 42],\n",
       "       [32, 31, 39, 45],\n",
       "       [55, 47, 49, 50],\n",
       "       [71, 63, 55, 80],\n",
       "       [77, 65, 89, 82],\n",
       "       [96, 98, 93, 82]])"
      ]
     },
     "execution_count": 10,
     "metadata": {},
     "output_type": "execute_result"
    }
   ],
   "source": [
    "np.sort(b,axis=0) "
   ]
  },
  {
   "cell_type": "code",
   "execution_count": 148,
   "id": "7fde9696-0eaf-46b9-9401-1bac075a8f79",
   "metadata": {},
   "outputs": [
    {
     "data": {
      "text/plain": [
       "array([[79, 66, 67, 75],\n",
       "       [63, 79, 74, 69],\n",
       "       [60, 80, 88, 62]])"
      ]
     },
     "execution_count": 148,
     "metadata": {},
     "output_type": "execute_result"
    }
   ],
   "source": [
    "#np.argsort()\n",
    "b"
   ]
  },
  {
   "cell_type": "code",
   "execution_count": 149,
   "id": "3c71c91b-670d-4450-9f1a-79c7a39953aa",
   "metadata": {},
   "outputs": [
    {
     "data": {
      "text/plain": [
       "array([[2, 0, 0, 2],\n",
       "       [1, 1, 1, 1],\n",
       "       [0, 2, 2, 0]], dtype=int64)"
      ]
     },
     "execution_count": 149,
     "metadata": {},
     "output_type": "execute_result"
    }
   ],
   "source": [
    "np.argsort(b,axis=0)"
   ]
  },
  {
   "cell_type": "markdown",
   "id": "db1339d6-ef4d-4086-8dd9-7d13b2d2d400",
   "metadata": {},
   "source": [
    "# np.select()"
   ]
  },
  {
   "cell_type": "code",
   "execution_count": null,
   "id": "e1fb2dbb-715f-4722-94ec-7c0995a5d6be",
   "metadata": {},
   "outputs": [],
   "source": [
    "#used to apply multiple conditions to an array and returns based on which condtion is true\n",
    "#np.select(condtions,choices,default=0)\n"
   ]
  },
  {
   "cell_type": "code",
   "execution_count": 151,
   "id": "b7b96731-f285-4103-884b-4b4ca783ec83",
   "metadata": {},
   "outputs": [
    {
     "data": {
      "text/plain": [
       "array(['Low', 'Medium', 'Medium', 'Medium', 'High', 'High'], dtype='<U6')"
      ]
     },
     "execution_count": 151,
     "metadata": {},
     "output_type": "execute_result"
    }
   ],
   "source": [
    "x=np.array([10,20,30,40,55,80])\n",
    "condtions=[x<20,(x>=20) &(x<50),x>=50]\n",
    "choices=[\"Low\",\"Medium\",\"High\"]\n",
    "np.select(condtions,choices)"
   ]
  },
  {
   "cell_type": "code",
   "execution_count": 14,
   "id": "6ca96289-87b2-41dd-aa77-595bf3555d56",
   "metadata": {},
   "outputs": [
    {
     "data": {
      "text/plain": [
       "array([ 51,  31,  69,  15,  57,  66,  50,  70,  95,  33,  66,  53,  43,\n",
       "        15,  14, 200])"
      ]
     },
     "execution_count": 14,
     "metadata": {},
     "output_type": "execute_result"
    }
   ],
   "source": [
    "#np.append\n",
    "np.append(a,200)\n"
   ]
  },
  {
   "cell_type": "code",
   "execution_count": 22,
   "id": "068c4e6a-1891-41c0-9737-6407a00c89ed",
   "metadata": {},
   "outputs": [
    {
     "data": {
      "text/plain": [
       "array([[32., 63., 93., 82.,  1.],\n",
       "       [77.,  7., 55., 80.,  1.],\n",
       "       [ 3., 47., 16., 45.,  1.],\n",
       "       [55., 31., 49., 82.,  1.],\n",
       "       [96., 98., 39., 42.,  1.],\n",
       "       [71., 65., 89., 50.,  1.]])"
      ]
     },
     "execution_count": 22,
     "metadata": {},
     "output_type": "execute_result"
    }
   ],
   "source": [
    "b\n",
    "np.append(b,np.ones((b.shape[0],1)),axis=1)"
   ]
  },
  {
   "cell_type": "code",
   "execution_count": 23,
   "id": "a3ceb907-762c-491f-a9cc-674e9bb49a97",
   "metadata": {},
   "outputs": [
    {
     "name": "stdout",
     "output_type": "stream",
     "text": [
      "[[0 1 2]\n",
      " [3 4 5]]\n",
      "[[32 63 93 82]\n",
      " [77  7 55 80]\n",
      " [ 3 47 16 45]\n",
      " [55 31 49 82]\n",
      " [96 98 39 42]\n",
      " [71 65 89 50]]\n"
     ]
    }
   ],
   "source": [
    "#np.concatenate\n",
    "c=np.arange(6).reshape(2,3)\n",
    "d=np.arange(6,12).reshape(2,3)\n",
    "print(c)\n",
    "print(b)"
   ]
  },
  {
   "cell_type": "code",
   "execution_count": 26,
   "id": "b7010858-583a-446b-a9ca-30a1510a0b42",
   "metadata": {},
   "outputs": [
    {
     "data": {
      "text/plain": [
       "array([[ 0,  1,  2],\n",
       "       [ 3,  4,  5],\n",
       "       [ 6,  7,  8],\n",
       "       [ 9, 10, 11]])"
      ]
     },
     "execution_count": 26,
     "metadata": {},
     "output_type": "execute_result"
    }
   ],
   "source": [
    "np.concatenate((c,d),axis=0)"
   ]
  },
  {
   "cell_type": "code",
   "execution_count": 27,
   "id": "03cc3627-23e8-46dd-a2c5-4e02408c3668",
   "metadata": {},
   "outputs": [],
   "source": [
    "#np.unique\n",
    "c=np.array([1,2,2,3,4,5,6,7,3,3,2])"
   ]
  },
  {
   "cell_type": "code",
   "execution_count": 28,
   "id": "d5f61533-237e-4452-ad25-ba620c98c7c1",
   "metadata": {},
   "outputs": [
    {
     "data": {
      "text/plain": [
       "array([1, 2, 3, 4, 5, 6, 7])"
      ]
     },
     "execution_count": 28,
     "metadata": {},
     "output_type": "execute_result"
    }
   ],
   "source": [
    "np.unique(c)"
   ]
  },
  {
   "cell_type": "code",
   "execution_count": 29,
   "id": "a772595e-3ea3-4363-82dd-06fc8414a667",
   "metadata": {},
   "outputs": [
    {
     "data": {
      "text/plain": [
       "array([1, 2, 2, 3, 4, 5, 6, 7, 3, 3, 2])"
      ]
     },
     "execution_count": 29,
     "metadata": {},
     "output_type": "execute_result"
    }
   ],
   "source": [
    "#np.expand_dims\n",
    "c #1D "
   ]
  },
  {
   "cell_type": "code",
   "execution_count": 31,
   "id": "9f2a19f8-bbf7-428a-9d08-50c6be077e08",
   "metadata": {},
   "outputs": [
    {
     "data": {
      "text/plain": [
       "array([[1, 2, 2, 3, 4, 5, 6, 7, 3, 3, 2]])"
      ]
     },
     "execution_count": 31,
     "metadata": {},
     "output_type": "execute_result"
    }
   ],
   "source": [
    "np.expand_dims(c,axis=0)  #2D"
   ]
  },
  {
   "cell_type": "markdown",
   "id": "ec45f85f-c622-4e3e-9308-2f4add22f231",
   "metadata": {},
   "source": [
    "# np.where"
   ]
  },
  {
   "cell_type": "code",
   "execution_count": 33,
   "id": "0ae5fb61-c3d7-4b23-9610-e9a3e8d08a5e",
   "metadata": {},
   "outputs": [],
   "source": [
    "# returns te indices of elemetns in an imput array where the given condtion is satisfied"
   ]
  },
  {
   "cell_type": "code",
   "execution_count": 34,
   "id": "f9928be6-2226-4b37-94f8-9ec132177ee9",
   "metadata": {},
   "outputs": [
    {
     "data": {
      "text/plain": [
       "array([51, 31, 69, 15, 57, 66, 50, 70, 95, 33, 66, 53, 43, 15, 14])"
      ]
     },
     "execution_count": 34,
     "metadata": {},
     "output_type": "execute_result"
    }
   ],
   "source": [
    "a"
   ]
  },
  {
   "cell_type": "code",
   "execution_count": 36,
   "id": "80daa236-b2c0-4bc8-825e-e415125773a5",
   "metadata": {},
   "outputs": [
    {
     "data": {
      "text/plain": [
       "array([51, 69, 57, 66, 70, 95, 66, 53])"
      ]
     },
     "execution_count": 36,
     "metadata": {},
     "output_type": "execute_result"
    }
   ],
   "source": [
    "#find all the indiced with value greater than 50\n",
    "np.where(a>50)"
   ]
  },
  {
   "cell_type": "code",
   "execution_count": 37,
   "id": "bbfd4ea1-78ff-4866-9a62-f6f648e52855",
   "metadata": {},
   "outputs": [
    {
     "data": {
      "text/plain": [
       "array([ 0, 31,  0, 15,  0,  0, 50,  0,  0, 33,  0,  0, 43, 15, 14])"
      ]
     },
     "execution_count": 37,
     "metadata": {},
     "output_type": "execute_result"
    }
   ],
   "source": [
    "#Replace all values >50\n",
    "#np.where(conditon,true,false)\n",
    "np.where(a>50,0,a)\n"
   ]
  },
  {
   "cell_type": "code",
   "execution_count": 38,
   "id": "9a0fb283-759c-4db8-9333-3cd586dc7b8c",
   "metadata": {},
   "outputs": [
    {
     "data": {
      "text/plain": [
       "8"
      ]
     },
     "execution_count": 38,
     "metadata": {},
     "output_type": "execute_result"
    }
   ],
   "source": [
    "# np.argmax() >>>indexpostion of max value\n",
    "np.argmax(a)"
   ]
  },
  {
   "cell_type": "code",
   "execution_count": 42,
   "id": "ad69df7c-42c6-43e6-a443-7ca29fefa60d",
   "metadata": {},
   "outputs": [
    {
     "data": {
      "text/plain": [
       "array([[32, 63, 93, 82],\n",
       "       [77,  7, 55, 80],\n",
       "       [ 3, 47, 16, 45],\n",
       "       [55, 31, 49, 82],\n",
       "       [96, 98, 39, 42],\n",
       "       [71, 65, 89, 50]])"
      ]
     },
     "execution_count": 42,
     "metadata": {},
     "output_type": "execute_result"
    }
   ],
   "source": [
    "b"
   ]
  },
  {
   "cell_type": "code",
   "execution_count": 41,
   "id": "53c4911f-c16f-4d8c-b0dc-37aecbac62d5",
   "metadata": {},
   "outputs": [
    {
     "data": {
      "text/plain": [
       "array([2, 3, 1, 3, 1, 2], dtype=int64)"
      ]
     },
     "execution_count": 41,
     "metadata": {},
     "output_type": "execute_result"
    }
   ],
   "source": [
    "np.argmax(b,axis=1) "
   ]
  },
  {
   "cell_type": "code",
   "execution_count": 44,
   "id": "5ab4ad04-8635-4b14-9060-8be2f804609f",
   "metadata": {},
   "outputs": [
    {
     "data": {
      "text/plain": [
       "14"
      ]
     },
     "execution_count": 44,
     "metadata": {},
     "output_type": "execute_result"
    }
   ],
   "source": [
    "#np.argmin()\n",
    "np.argmin(a)"
   ]
  },
  {
   "cell_type": "markdown",
   "id": "48923c0c-ece8-43f8-bf8c-6c3c7677b359",
   "metadata": {},
   "source": [
    "# np.cumsum()"
   ]
  },
  {
   "cell_type": "code",
   "execution_count": null,
   "id": "52b6ed70-74ec-44e6-a83a-1d99c4198ee0",
   "metadata": {},
   "outputs": [],
   "source": [
    "#when we wnat to compute the cumulative sum of array elements over a given axis"
   ]
  },
  {
   "cell_type": "code",
   "execution_count": 45,
   "id": "20036e73-bb22-4f92-98ff-3b1df0cb7dde",
   "metadata": {},
   "outputs": [
    {
     "data": {
      "text/plain": [
       "array([51, 31, 69, 15, 57, 66, 50, 70, 95, 33, 66, 53, 43, 15, 14])"
      ]
     },
     "execution_count": 45,
     "metadata": {},
     "output_type": "execute_result"
    }
   ],
   "source": [
    "a #1D"
   ]
  },
  {
   "cell_type": "code",
   "execution_count": 46,
   "id": "e227e662-26dc-4e86-8a4d-57641047188d",
   "metadata": {},
   "outputs": [
    {
     "data": {
      "text/plain": [
       "array([ 51,  82, 151, 166, 223, 289, 339, 409, 504, 537, 603, 656, 699,\n",
       "       714, 728])"
      ]
     },
     "execution_count": 46,
     "metadata": {},
     "output_type": "execute_result"
    }
   ],
   "source": [
    "np.cumsum(a)"
   ]
  },
  {
   "cell_type": "code",
   "execution_count": 47,
   "id": "c6b3ced4-a149-4c51-8aab-9d0eb2ad7ae6",
   "metadata": {},
   "outputs": [
    {
     "data": {
      "text/plain": [
       "array([[ 32,  63,  93,  82],\n",
       "       [109,  70, 148, 162],\n",
       "       [112, 117, 164, 207],\n",
       "       [167, 148, 213, 289],\n",
       "       [263, 246, 252, 331],\n",
       "       [334, 311, 341, 381]])"
      ]
     },
     "execution_count": 47,
     "metadata": {},
     "output_type": "execute_result"
    }
   ],
   "source": [
    "np.cumsum(b,axis=0)"
   ]
  },
  {
   "cell_type": "markdown",
   "id": "f917ad26-11fe-4577-acb0-3f31aaf1d994",
   "metadata": {},
   "source": [
    "# np.cumprod()"
   ]
  },
  {
   "cell_type": "code",
   "execution_count": 48,
   "id": "1bead7bf-1c56-4c67-83d3-53c420a801e4",
   "metadata": {},
   "outputs": [
    {
     "data": {
      "text/plain": [
       "array([         51,        1581,      109089,     1636335,    93271095,\n",
       "        1860924974, -1443031812,  2066988264, -1204610536, -1097442024,\n",
       "         583270448,   848562672,  2128456528,  1862076848,   299272096])"
      ]
     },
     "execution_count": 48,
     "metadata": {},
     "output_type": "execute_result"
    }
   ],
   "source": [
    "np.cumprod(a) #1D"
   ]
  },
  {
   "cell_type": "code",
   "execution_count": 50,
   "id": "a28127d7-74f6-4005-86cd-9da381629d01",
   "metadata": {},
   "outputs": [
    {
     "data": {
      "text/plain": [
       "array([[         32,          63,          93,          82],\n",
       "       [       2464,         441,        5115,        6560],\n",
       "       [       7392,       20727,       81840,      295200],\n",
       "       [     406560,      642537,     4010160,    24206400],\n",
       "       [   39029760,    62968626,   156396240,  1016668800],\n",
       "       [-1523854336,  -202006606,  1034363472,  -706167552]])"
      ]
     },
     "execution_count": 50,
     "metadata": {},
     "output_type": "execute_result"
    }
   ],
   "source": [
    "np.cumprod(b,axis=0)"
   ]
  },
  {
   "cell_type": "markdown",
   "id": "252c91bb-64e5-4c01-a86d-fc58dd93dc2b",
   "metadata": {},
   "source": [
    "# np.percentile()"
   ]
  },
  {
   "cell_type": "code",
   "execution_count": 53,
   "id": "0159d5e5-4a32-4d48-9838-650a11151c47",
   "metadata": {},
   "outputs": [
    {
     "data": {
      "text/plain": [
       "array([51, 31, 69, 15, 57, 66, 50, 70, 95, 33, 66, 53, 43, 15, 14])"
      ]
     },
     "execution_count": 53,
     "metadata": {},
     "output_type": "execute_result"
    }
   ],
   "source": [
    "a"
   ]
  },
  {
   "cell_type": "code",
   "execution_count": 54,
   "id": "fa757141-748b-44a3-804a-6eaaea45c8d2",
   "metadata": {},
   "outputs": [
    {
     "data": {
      "text/plain": [
       "64.19999999999999"
      ]
     },
     "execution_count": 54,
     "metadata": {},
     "output_type": "execute_result"
    }
   ],
   "source": [
    "np.percentile(a,70)"
   ]
  },
  {
   "cell_type": "markdown",
   "id": "1a338f94-5ac8-42e1-a30e-85b339964f7e",
   "metadata": {},
   "source": [
    "# np.histogram()"
   ]
  },
  {
   "cell_type": "code",
   "execution_count": 59,
   "id": "3c3f1fe9-7a64-4e43-a284-cf2d7aefe320",
   "metadata": {},
   "outputs": [
    {
     "data": {
      "text/plain": [
       "array([51, 31, 69, 15, 57, 66, 50, 70, 95, 33, 66, 53, 43, 15, 14])"
      ]
     },
     "execution_count": 59,
     "metadata": {},
     "output_type": "execute_result"
    }
   ],
   "source": [
    "a"
   ]
  },
  {
   "cell_type": "code",
   "execution_count": 60,
   "id": "2ed1770c-4682-4fee-b801-d70a9e595ea0",
   "metadata": {},
   "outputs": [
    {
     "data": {
      "text/plain": [
       "(array([6, 9], dtype=int64), array([  0,  50, 100]))"
      ]
     },
     "execution_count": 60,
     "metadata": {},
     "output_type": "execute_result"
    }
   ],
   "source": [
    "np.histogram(a,bins=[0,10,20,30,40,50,60,70,80,90,100])\n",
    "np.histogram(a,bins=[0,50,100])"
   ]
  },
  {
   "cell_type": "markdown",
   "id": "7fe35f44-95e8-4dea-a4ef-811c1f9631ad",
   "metadata": {},
   "source": [
    "# np.corrcoef()"
   ]
  },
  {
   "cell_type": "code",
   "execution_count": 62,
   "id": "5089f65f-27a9-4164-8694-84d71375dfb5",
   "metadata": {},
   "outputs": [
    {
     "data": {
      "text/plain": [
       "array([[1. , 0.1],\n",
       "       [0.1, 1. ]])"
      ]
     },
     "execution_count": 62,
     "metadata": {},
     "output_type": "execute_result"
    }
   ],
   "source": [
    "salary=np.array([10000,20000,30000,40000,50000])\n",
    "exp=np.array([1,5,3,4,2])\n",
    "\n",
    "np.corrcoef(salary,exp)\n"
   ]
  },
  {
   "cell_type": "markdown",
   "id": "90f569ce-d702-4b9a-8e61-939655106f30",
   "metadata": {},
   "source": [
    "# np.isin()\n"
   ]
  },
  {
   "cell_type": "code",
   "execution_count": 63,
   "id": "9e70e6c3-97ef-432e-8b82-c28c3c59651c",
   "metadata": {},
   "outputs": [
    {
     "data": {
      "text/plain": [
       "array([51, 31, 69, 15, 57, 66, 50, 70, 95, 33, 66, 53, 43, 15, 14])"
      ]
     },
     "execution_count": 63,
     "metadata": {},
     "output_type": "execute_result"
    }
   ],
   "source": [
    "a"
   ]
  },
  {
   "cell_type": "code",
   "execution_count": 68,
   "id": "cc46a23a-7aa4-46f8-a189-fbd3f4a41907",
   "metadata": {},
   "outputs": [
    {
     "data": {
      "text/plain": [
       "array([57, 66, 66, 43])"
      ]
     },
     "execution_count": 68,
     "metadata": {},
     "output_type": "execute_result"
    }
   ],
   "source": [
    "items=[43,57,66]\n",
    "a[np.isin(a,items)]\n",
    "#np.isin(a,[31,69])"
   ]
  },
  {
   "cell_type": "markdown",
   "id": "416ca749-7bba-4c8e-a6d3-2a98e631b556",
   "metadata": {},
   "source": [
    "# np.flip()"
   ]
  },
  {
   "cell_type": "code",
   "execution_count": 69,
   "id": "79545073-bc56-4053-8642-5619f77dce9a",
   "metadata": {},
   "outputs": [
    {
     "data": {
      "text/plain": [
       "array([51, 31, 69, 15, 57, 66, 50, 70, 95, 33, 66, 53, 43, 15, 14])"
      ]
     },
     "execution_count": 69,
     "metadata": {},
     "output_type": "execute_result"
    }
   ],
   "source": [
    "a"
   ]
  },
  {
   "cell_type": "code",
   "execution_count": 70,
   "id": "86c8bed9-62ad-4468-a070-73b79bc5c606",
   "metadata": {},
   "outputs": [
    {
     "data": {
      "text/plain": [
       "array([14, 15, 43, 53, 66, 33, 95, 70, 50, 66, 57, 15, 69, 31, 51])"
      ]
     },
     "execution_count": 70,
     "metadata": {},
     "output_type": "execute_result"
    }
   ],
   "source": [
    "np.flip(a)"
   ]
  },
  {
   "cell_type": "code",
   "execution_count": 71,
   "id": "70a56b9b-7de8-48bf-a97e-e6b50aafc4b2",
   "metadata": {},
   "outputs": [
    {
     "data": {
      "text/plain": [
       "array([[32, 63, 93, 82],\n",
       "       [77,  7, 55, 80],\n",
       "       [ 3, 47, 16, 45],\n",
       "       [55, 31, 49, 82],\n",
       "       [96, 98, 39, 42],\n",
       "       [71, 65, 89, 50]])"
      ]
     },
     "execution_count": 71,
     "metadata": {},
     "output_type": "execute_result"
    }
   ],
   "source": [
    "b"
   ]
  },
  {
   "cell_type": "code",
   "execution_count": 74,
   "id": "1557f775-acf2-4bc2-a54c-95ad3cf8b471",
   "metadata": {},
   "outputs": [
    {
     "data": {
      "text/plain": [
       "array([[50, 89, 65, 71],\n",
       "       [42, 39, 98, 96],\n",
       "       [82, 49, 31, 55],\n",
       "       [45, 16, 47,  3],\n",
       "       [80, 55,  7, 77],\n",
       "       [82, 93, 63, 32]])"
      ]
     },
     "execution_count": 74,
     "metadata": {},
     "output_type": "execute_result"
    }
   ],
   "source": [
    "np.flip(b)"
   ]
  },
  {
   "cell_type": "markdown",
   "id": "8dc78460-8a08-41f4-989b-994d21e08300",
   "metadata": {},
   "source": [
    "# np.put()"
   ]
  },
  {
   "cell_type": "code",
   "execution_count": null,
   "id": "265b0ee3-7348-40a5-9f47-ffc95d55820c",
   "metadata": {},
   "outputs": [],
   "source": [
    "#changing values"
   ]
  },
  {
   "cell_type": "code",
   "execution_count": 75,
   "id": "9d0f9006-95ae-466f-aac7-7ffb75639426",
   "metadata": {},
   "outputs": [
    {
     "data": {
      "text/plain": [
       "array([51, 31, 69, 15, 57, 66, 50, 70, 95, 33, 66, 53, 43, 15, 14])"
      ]
     },
     "execution_count": 75,
     "metadata": {},
     "output_type": "execute_result"
    }
   ],
   "source": [
    "a"
   ]
  },
  {
   "cell_type": "code",
   "execution_count": 77,
   "id": "352f98bb-53b4-4b88-801a-b43a8c32388c",
   "metadata": {},
   "outputs": [
    {
     "data": {
      "text/plain": [
       "array([100, 101,  69,  15,  57,  66,  50,  70,  95,  33,  66,  53,  43,\n",
       "        15,  14])"
      ]
     },
     "execution_count": 77,
     "metadata": {},
     "output_type": "execute_result"
    }
   ],
   "source": [
    "np.put(a,[0,1],[100,101]) #changes on actual data\n",
    "a"
   ]
  },
  {
   "cell_type": "code",
   "execution_count": null,
   "id": "c151f4b2-ae65-4f75-aa78-3d8b2f5ec221",
   "metadata": {},
   "outputs": [],
   "source": [
    "#np.delete() >>>>delete items based on indices "
   ]
  },
  {
   "cell_type": "code",
   "execution_count": 78,
   "id": "8973c8c2-2bb8-48d7-b76b-fbb21350284d",
   "metadata": {},
   "outputs": [
    {
     "data": {
      "text/plain": [
       "array([100, 101,  69,  15,  57,  66,  50,  70,  95,  33,  66,  53,  43,\n",
       "        15,  14])"
      ]
     },
     "execution_count": 78,
     "metadata": {},
     "output_type": "execute_result"
    }
   ],
   "source": [
    "a"
   ]
  },
  {
   "cell_type": "code",
   "execution_count": 81,
   "id": "f8116540-301d-4f6e-b97d-2737669c3b67",
   "metadata": {},
   "outputs": [
    {
     "data": {
      "text/plain": [
       "array([101,  69,  15,  57,  66,  50,  70,  95,  33,  66,  53,  43,  15,\n",
       "        14])"
      ]
     },
     "execution_count": 81,
     "metadata": {},
     "output_type": "execute_result"
    }
   ],
   "source": [
    "np.delete(a,[0])"
   ]
  },
  {
   "cell_type": "markdown",
   "id": "ab8b5a16-a5ce-4498-9b59-6daec6c00900",
   "metadata": {},
   "source": [
    "# set functions"
   ]
  },
  {
   "cell_type": "markdown",
   "id": "d4bc0e72-ff52-442a-829a-bc4c8fa86ea9",
   "metadata": {},
   "source": [
    "-np.union1d\n",
    "-np.intersect1d\n",
    "-np.setdiff1d\n",
    "-np.setxor1d\n",
    "-np.in1d"
   ]
  },
  {
   "cell_type": "code",
   "execution_count": 83,
   "id": "f4fb1216-8cc1-4417-b201-d04b6aa21247",
   "metadata": {},
   "outputs": [],
   "source": [
    "m=np.array([1,2,3,4,5])\n",
    "n=np.array([2,6,1,7,8])"
   ]
  },
  {
   "cell_type": "code",
   "execution_count": 84,
   "id": "6ab3b736-e75c-4697-8d00-56e81d37aa3f",
   "metadata": {},
   "outputs": [
    {
     "data": {
      "text/plain": [
       "array([1, 2, 3, 4, 5, 6, 7, 8])"
      ]
     },
     "execution_count": 84,
     "metadata": {},
     "output_type": "execute_result"
    }
   ],
   "source": [
    "np.union1d(m,n)"
   ]
  },
  {
   "cell_type": "code",
   "execution_count": 85,
   "id": "acb43255-5545-4996-b393-fccc7120d9b2",
   "metadata": {},
   "outputs": [
    {
     "data": {
      "text/plain": [
       "array([1, 2])"
      ]
     },
     "execution_count": 85,
     "metadata": {},
     "output_type": "execute_result"
    }
   ],
   "source": [
    "np.intersect1d(m,n)"
   ]
  },
  {
   "cell_type": "code",
   "execution_count": 86,
   "id": "73eb178a-82af-4bcb-aea2-0f25c6b94539",
   "metadata": {},
   "outputs": [
    {
     "data": {
      "text/plain": [
       "array([6, 7, 8])"
      ]
     },
     "execution_count": 86,
     "metadata": {},
     "output_type": "execute_result"
    }
   ],
   "source": [
    "np.setdiff1d(n,m)"
   ]
  },
  {
   "cell_type": "code",
   "execution_count": 88,
   "id": "39d919f2-31a9-4b33-a627-ae4b9fe14a67",
   "metadata": {},
   "outputs": [
    {
     "data": {
      "text/plain": [
       "array([3, 4, 5, 6, 7, 8])"
      ]
     },
     "execution_count": 88,
     "metadata": {},
     "output_type": "execute_result"
    }
   ],
   "source": [
    "np.setxor1d(m,n) #remove common items and reutrns unique"
   ]
  },
  {
   "cell_type": "code",
   "execution_count": 89,
   "id": "6030834e-fc3f-4fc0-b837-d942f5b8eb67",
   "metadata": {},
   "outputs": [
    {
     "data": {
      "text/plain": [
       "array([False,  True, False, False, False])"
      ]
     },
     "execution_count": 89,
     "metadata": {},
     "output_type": "execute_result"
    }
   ],
   "source": [
    "np.in1d(m,2) "
   ]
  },
  {
   "cell_type": "markdown",
   "id": "16272449-9463-4234-ac4d-ec5c32326afb",
   "metadata": {},
   "source": [
    "# np.clip()"
   ]
  },
  {
   "cell_type": "code",
   "execution_count": 91,
   "id": "36b471e6-6b46-4d6d-852e-191c3c82ae43",
   "metadata": {},
   "outputs": [],
   "source": [
    "#limit the values in an array"
   ]
  },
  {
   "cell_type": "code",
   "execution_count": 92,
   "id": "35879619-fe73-462c-81b4-e4b4049438c3",
   "metadata": {},
   "outputs": [
    {
     "data": {
      "text/plain": [
       "array([100, 101,  69,  15,  57,  66,  50,  70,  95,  33,  66,  53,  43,\n",
       "        15,  14])"
      ]
     },
     "execution_count": 92,
     "metadata": {},
     "output_type": "execute_result"
    }
   ],
   "source": [
    "a"
   ]
  },
  {
   "cell_type": "code",
   "execution_count": 93,
   "id": "a59b47f2-2349-4cf8-9345-d305e9d9ad27",
   "metadata": {},
   "outputs": [
    {
     "data": {
      "text/plain": [
       "array([75, 75, 69, 25, 57, 66, 50, 70, 75, 33, 66, 53, 43, 25, 25])"
      ]
     },
     "execution_count": 93,
     "metadata": {},
     "output_type": "execute_result"
    }
   ],
   "source": [
    "np.clip(a,a_min=25,a_max=75)"
   ]
  },
  {
   "cell_type": "markdown",
   "id": "91373bf2-7688-427d-b52a-1fcb08ab14b4",
   "metadata": {},
   "source": [
    "# np.swapaxes()"
   ]
  },
  {
   "cell_type": "code",
   "execution_count": 94,
   "id": "2f924144-5433-45a4-93f7-f784d1bf38c2",
   "metadata": {},
   "outputs": [],
   "source": [
    "#interchanges two axes of array"
   ]
  },
  {
   "cell_type": "code",
   "execution_count": 101,
   "id": "49bdae2b-e6e6-4433-bd61-51eacdd953f8",
   "metadata": {},
   "outputs": [
    {
     "name": "stdout",
     "output_type": "stream",
     "text": [
      "[[ 0  1  2  3]\n",
      " [ 4  5  6  7]\n",
      " [ 8  9 10 11]]\n",
      "[[79 66 67 75]\n",
      " [63 79 74 69]\n",
      " [60 80 88 62]]\n"
     ]
    }
   ],
   "source": [
    "a=np.arange(12).reshape(3,4)\n",
    "b=np.random.randint(50,100,12).reshape(3,4)\n",
    "print(a)\n",
    "print(b)"
   ]
  },
  {
   "cell_type": "code",
   "execution_count": 104,
   "id": "19cf432c-3caa-44f9-bc0b-9b8fee69f84c",
   "metadata": {},
   "outputs": [
    {
     "data": {
      "text/plain": [
       "array([[[ 0,  1,  2,  3],\n",
       "        [79, 66, 67, 75]],\n",
       "\n",
       "       [[ 4,  5,  6,  7],\n",
       "        [63, 79, 74, 69]],\n",
       "\n",
       "       [[ 8,  9, 10, 11],\n",
       "        [60, 80, 88, 62]]])"
      ]
     },
     "execution_count": 104,
     "metadata": {},
     "output_type": "execute_result"
    }
   ],
   "source": [
    "np.swapaxes([a,b],0,1)"
   ]
  },
  {
   "cell_type": "markdown",
   "id": "4b1e7cd3-4a75-4ee3-a23d-1e5cd87eb1dc",
   "metadata": {},
   "source": [
    "# np.uniform"
   ]
  },
  {
   "cell_type": "code",
   "execution_count": 105,
   "id": "20def846-82b7-4702-b269-832c7f998c09",
   "metadata": {},
   "outputs": [],
   "source": [
    "#generate random numbers for a uniform distribution\n",
    "#np.uniform(low=0.0,high=1,0,size=None)"
   ]
  },
  {
   "cell_type": "code",
   "execution_count": 107,
   "id": "13715444-cd6c-4bbc-a7a3-be0b18a14472",
   "metadata": {},
   "outputs": [
    {
     "name": "stdout",
     "output_type": "stream",
     "text": [
      "[12.6108344  12.69530583 19.13880705 15.32945691 11.94997606]\n"
     ]
    }
   ],
   "source": [
    "print(np.random.uniform(10,20,size=5))"
   ]
  },
  {
   "cell_type": "markdown",
   "id": "d65532e8-9f0e-464c-a80e-d54ae0a8189c",
   "metadata": {},
   "source": [
    "# np.count_nonzero"
   ]
  },
  {
   "cell_type": "code",
   "execution_count": 111,
   "id": "ad17b314-50ee-44b6-8906-6f67dd794c49",
   "metadata": {},
   "outputs": [
    {
     "data": {
      "text/plain": [
       "array([  0, 100,   5,   7,   8,   1,   2,   3,   0,   0,   0,   1,   0])"
      ]
     },
     "execution_count": 111,
     "metadata": {},
     "output_type": "execute_result"
    }
   ],
   "source": [
    "a=np.array([0,100,5,7,8,1,2,3,0,0,0,1,0])\n",
    "a"
   ]
  },
  {
   "cell_type": "code",
   "execution_count": 112,
   "id": "974f68ae-8910-477b-8903-79ddf48eadd5",
   "metadata": {},
   "outputs": [
    {
     "data": {
      "text/plain": [
       "8"
      ]
     },
     "execution_count": 112,
     "metadata": {},
     "output_type": "execute_result"
    }
   ],
   "source": [
    "np.count_nonzero(a!=0)"
   ]
  },
  {
   "cell_type": "markdown",
   "id": "2cd09404-9dfe-428e-807f-447000d35c41",
   "metadata": {},
   "source": [
    "# np.repeat"
   ]
  },
  {
   "cell_type": "code",
   "execution_count": 113,
   "id": "e6e87438-ae8b-47a4-b24a-e87d72613683",
   "metadata": {},
   "outputs": [
    {
     "data": {
      "text/plain": [
       "array([1, 2, 3])"
      ]
     },
     "execution_count": 113,
     "metadata": {},
     "output_type": "execute_result"
    }
   ],
   "source": [
    "a=np.array([1,2,3])\n",
    "a"
   ]
  },
  {
   "cell_type": "code",
   "execution_count": 114,
   "id": "78681b91-c60b-4165-b02c-bf308c385929",
   "metadata": {},
   "outputs": [
    {
     "data": {
      "text/plain": [
       "array([1, 1, 1, 2, 2, 2, 3, 3, 3])"
      ]
     },
     "execution_count": 114,
     "metadata": {},
     "output_type": "execute_result"
    }
   ],
   "source": [
    "np.repeat(a,3)"
   ]
  },
  {
   "cell_type": "code",
   "execution_count": 115,
   "id": "e358db73-303f-4b31-ae68-d87f1eaf890a",
   "metadata": {},
   "outputs": [
    {
     "data": {
      "text/plain": [
       "array([[79, 66, 67, 75],\n",
       "       [63, 79, 74, 69],\n",
       "       [60, 80, 88, 62]])"
      ]
     },
     "execution_count": 115,
     "metadata": {},
     "output_type": "execute_result"
    }
   ],
   "source": [
    "b"
   ]
  },
  {
   "cell_type": "code",
   "execution_count": 118,
   "id": "a07c844d-d6fd-46f0-85ea-128987a9bfc6",
   "metadata": {},
   "outputs": [
    {
     "data": {
      "text/plain": [
       "array([79, 79, 66, 66, 67, 67, 75, 75, 63, 63, 79, 79, 74, 74, 69, 69, 60,\n",
       "       60, 80, 80, 88, 88, 62, 62])"
      ]
     },
     "execution_count": 118,
     "metadata": {},
     "output_type": "execute_result"
    }
   ],
   "source": [
    "np.repeat(b,2)"
   ]
  },
  {
   "cell_type": "markdown",
   "id": "77d74f17-813c-4f2f-a544-b614561f96b2",
   "metadata": {},
   "source": [
    "# np.any()"
   ]
  },
  {
   "cell_type": "code",
   "execution_count": 154,
   "id": "a5f7582f-4400-4098-85ec-c63a9caeebcc",
   "metadata": {},
   "outputs": [
    {
     "data": {
      "text/plain": [
       "True"
      ]
     },
     "execution_count": 154,
     "metadata": {},
     "output_type": "execute_result"
    }
   ],
   "source": [
    "# checks if atleast one condtion is True\n",
    "a=np.array([0,0,0,1,5])\n",
    "np.any(a==0) #axis=0 or 1 #2D"
   ]
  },
  {
   "cell_type": "code",
   "execution_count": 155,
   "id": "2099ab96-10e3-4d20-9b0b-87e0ff8df778",
   "metadata": {},
   "outputs": [
    {
     "data": {
      "text/plain": [
       "True"
      ]
     },
     "execution_count": 155,
     "metadata": {},
     "output_type": "execute_result"
    }
   ],
   "source": [
    "#checks if every element meets the condtion\n",
    "np.all(a>=0) # axis=0 or 1  #2D"
   ]
  },
  {
   "cell_type": "code",
   "execution_count": null,
   "id": "42f57e36-306a-49d6-a4ee-9f1967b845a3",
   "metadata": {},
   "outputs": [],
   "source": []
  },
  {
   "cell_type": "markdown",
   "id": "ab276c16-efde-4c1d-b551-e6fbd33dc040",
   "metadata": {},
   "source": [
    "# Random Modules"
   ]
  },
  {
   "cell_type": "raw",
   "id": "c79b20a6-1902-462d-bdc8-f68c3877753b",
   "metadata": {},
   "source": [
    "- np.random.rand() >>>>Returns a Random values between 0 to 1\n",
    "- np.random.randint(a,b) >>>>>>Return a Random integer between a and b(inclusive)\n",
    "- np.random.choice(sequence) >>>>>>>>>>Returns a randomly selected element from the sequence\n",
    "- np.random.sample(sequence)>>>>>>>Returns l unique elements from the sequence\n",
    "- np.random.uniform(low,high,size) >>>>>>reurns a random float btw a and b\n",
    "- np.random.normal(loc,scale,size)>>>Returns a randoms numbers from a normal distribution ###loc-->mean ###scale--->std\n",
    "- np.random.shuffle() >>>Array shuffled in place\n",
    "- np.random.permutation >>>array shuffled copy\n",
    "- np.random.seed()>>>set seeds for the random number genertor\n"
   ]
  },
  {
   "cell_type": "code",
   "execution_count": 120,
   "id": "bd6f07f7-e5b7-4f47-8f3c-29a146c0c63a",
   "metadata": {},
   "outputs": [
    {
     "data": {
      "text/plain": [
       "array([[0.64434348, 0.70387289, 0.14482864],\n",
       "       [0.64884809, 0.2468669 , 0.17138591]])"
      ]
     },
     "execution_count": 120,
     "metadata": {},
     "output_type": "execute_result"
    }
   ],
   "source": [
    "#np.sample--->float numbers only\n",
    "a=np.random.sample(size=(2,3))\n",
    "a"
   ]
  },
  {
   "cell_type": "code",
   "execution_count": null,
   "id": "fa151b63-62c5-4dca-b52d-382e2b3d54b7",
   "metadata": {},
   "outputs": [],
   "source": [
    "#np.random.shuffle() >>>>>>randomly shuffles the items of an array in place\n",
    "#changes applied on actual array"
   ]
  },
  {
   "cell_type": "code",
   "execution_count": 127,
   "id": "3af31fc6-4974-4a2d-8183-73dd262d00b4",
   "metadata": {},
   "outputs": [
    {
     "data": {
      "text/plain": [
       "array([1, 2, 3])"
      ]
     },
     "execution_count": 127,
     "metadata": {},
     "output_type": "execute_result"
    }
   ],
   "source": [
    "a=np.array([1,2,3])\n",
    "a"
   ]
  },
  {
   "cell_type": "code",
   "execution_count": 130,
   "id": "54ffbecc-dfc6-49e4-9ebb-bfa638eb7ec5",
   "metadata": {},
   "outputs": [
    {
     "name": "stdout",
     "output_type": "stream",
     "text": [
      "[2 1 3]\n"
     ]
    }
   ],
   "source": [
    "np.random.shuffle(a)\n",
    "print(a)"
   ]
  },
  {
   "cell_type": "markdown",
   "id": "45782ace-6ab4-4cb3-a8aa-4842d8386f36",
   "metadata": {},
   "source": [
    "# np.random.permutation()"
   ]
  },
  {
   "cell_type": "code",
   "execution_count": null,
   "id": "23686827-709c-4098-9c26-ba3c20a22ef2",
   "metadata": {},
   "outputs": [],
   "source": [
    "#shuffle copy"
   ]
  },
  {
   "cell_type": "code",
   "execution_count": 133,
   "id": "a58f90f0-edff-4453-ac8e-6ba59f3f8379",
   "metadata": {},
   "outputs": [
    {
     "name": "stdout",
     "output_type": "stream",
     "text": [
      "[2 1 3]\n"
     ]
    }
   ],
   "source": [
    "r=np.array([1,2,3])\n",
    "new_=np.random.permutation(r)\n",
    "print(new_)"
   ]
  },
  {
   "cell_type": "markdown",
   "id": "bf561ab7-fec3-41ea-8d67-b1eabda0d4a5",
   "metadata": {},
   "source": [
    "# np.random.seed()"
   ]
  },
  {
   "cell_type": "code",
   "execution_count": 136,
   "id": "7e46e73e-c066-4878-90e4-983548556f22",
   "metadata": {},
   "outputs": [
    {
     "name": "stdout",
     "output_type": "stream",
     "text": [
      "[0.74233987 0.9580418 ]\n"
     ]
    }
   ],
   "source": [
    "print(np.random.rand(2))"
   ]
  },
  {
   "cell_type": "code",
   "execution_count": 143,
   "id": "9eae32e2-4e7a-49d0-a55e-29adbd464ab0",
   "metadata": {},
   "outputs": [
    {
     "name": "stdout",
     "output_type": "stream",
     "text": [
      "[0.37454012 0.95071431]\n"
     ]
    }
   ],
   "source": [
    "np.random.seed(42)\n",
    "print(np.random.rand(2))"
   ]
  },
  {
   "cell_type": "markdown",
   "id": "caecbdd6-2e5c-4047-b2c3-347cbf9a45bb",
   "metadata": {},
   "source": [
    "# file handling in Numpy"
   ]
  },
  {
   "cell_type": "code",
   "execution_count": 156,
   "id": "5cde2c82-a3f2-4652-8085-5dc3f0b110e6",
   "metadata": {},
   "outputs": [],
   "source": [
    "#refers to reading from and writing to files,especially when dealing with large numeric datasets\n"
   ]
  },
  {
   "cell_type": "raw",
   "id": "713a9e27-3363-4390-b6d7-3ddaef8628b4",
   "metadata": {},
   "source": [
    "- np.loadtxt() --->load data from text file\n",
    "- np.savetxt() ---->save array to a text file\n",
    "- np.genfromtxt()--->load data with missing values\n",
    "- np.save() --->save array in .npy binary format\n",
    "- np.load() --> load .npy binary file \n"
   ]
  },
  {
   "cell_type": "markdown",
   "id": "d7f29de8-a681-444a-848a-10bd9b689afe",
   "metadata": {},
   "source": [
    "# np.savetxt()\n"
   ]
  },
  {
   "cell_type": "code",
   "execution_count": 157,
   "id": "dd8abac6-a831-4c8e-8eaf-03868b50f66d",
   "metadata": {},
   "outputs": [
    {
     "name": "stdout",
     "output_type": "stream",
     "text": [
      "[[ 0  1  2  3]\n",
      " [ 4  5  6  7]\n",
      " [ 8  9 10 11]\n",
      " [12 13 14 15]]\n"
     ]
    }
   ],
   "source": [
    "a=np.arange(16).reshape(4,4)\n",
    "print(a)"
   ]
  },
  {
   "cell_type": "code",
   "execution_count": 159,
   "id": "065540f7-bc3c-44c0-949f-23d86ed07492",
   "metadata": {},
   "outputs": [],
   "source": [
    "#saving file\n",
    "np.savetxt('sample.txt',a)\n",
    "#customize\n",
    "np.savetxt('output.txt',a,delimiter=',',fmt='%d')"
   ]
  },
  {
   "cell_type": "markdown",
   "id": "e2234e33-1e88-4b73-a08f-af6edc13ebdd",
   "metadata": {},
   "source": [
    "# np.loadtxt()"
   ]
  },
  {
   "cell_type": "code",
   "execution_count": 160,
   "id": "1313b18e-166c-48d9-b77c-9a77b9cc5744",
   "metadata": {},
   "outputs": [
    {
     "data": {
      "text/plain": [
       "array([[ 0.,  1.,  2.,  3.],\n",
       "       [ 4.,  5.,  6.,  7.],\n",
       "       [ 8.,  9., 10., 11.],\n",
       "       [12., 13., 14., 15.]])"
      ]
     },
     "execution_count": 160,
     "metadata": {},
     "output_type": "execute_result"
    }
   ],
   "source": [
    "np.loadtxt('sample.txt')"
   ]
  },
  {
   "cell_type": "markdown",
   "id": "b229cefa-bb9f-498b-8c55-3793fe649aa8",
   "metadata": {},
   "source": [
    "# np.getfromtxt()"
   ]
  },
  {
   "cell_type": "code",
   "execution_count": 166,
   "id": "6f2391f4-ce41-46b6-9342-31bd6ddf7976",
   "metadata": {},
   "outputs": [],
   "source": [
    "r=np.array([1,2,3,np.nan,5])\n",
    "np.savetxt(\"have_missing\",r)"
   ]
  },
  {
   "cell_type": "code",
   "execution_count": 170,
   "id": "319fb42e-18e3-4daf-8936-1a666ed0bdb0",
   "metadata": {},
   "outputs": [
    {
     "data": {
      "text/plain": [
       "array([1., 2., 3., 0., 5.])"
      ]
     },
     "execution_count": 170,
     "metadata": {},
     "output_type": "execute_result"
    }
   ],
   "source": [
    "#load\n",
    "x=np.genfromtxt(\"have_missing\")\n",
    "data=np.nan_to_num(x)\n",
    "data"
   ]
  },
  {
   "cell_type": "code",
   "execution_count": 172,
   "id": "1167e310-daff-4f40-8670-caa49a2a9e88",
   "metadata": {},
   "outputs": [],
   "source": [
    "#np.save()\n",
    "arr=np.array([1,2,3])\n",
    "np.save(\"myarray.npy\",arr)"
   ]
  },
  {
   "cell_type": "code",
   "execution_count": 173,
   "id": "16bdd861-3034-47ff-9030-ed5c12999019",
   "metadata": {},
   "outputs": [
    {
     "data": {
      "text/plain": [
       "array([1, 2, 3])"
      ]
     },
     "execution_count": 173,
     "metadata": {},
     "output_type": "execute_result"
    }
   ],
   "source": [
    "#np.load()\n",
    "np.load(\"myarray.npy\")"
   ]
  },
  {
   "cell_type": "code",
   "execution_count": null,
   "id": "8a762f78-0427-48ae-a78b-195caa58126e",
   "metadata": {},
   "outputs": [],
   "source": []
  },
  {
   "cell_type": "code",
   "execution_count": null,
   "id": "1acfc644-e0f1-4265-8e91-0e5f3e480c0a",
   "metadata": {},
   "outputs": [],
   "source": []
  },
  {
   "cell_type": "code",
   "execution_count": null,
   "id": "8f325cf0-7d6b-4b9f-982d-26b91f9b2658",
   "metadata": {},
   "outputs": [],
   "source": []
  },
  {
   "cell_type": "code",
   "execution_count": null,
   "id": "47bbcd8e-6d85-4add-a2a6-6707d0925273",
   "metadata": {},
   "outputs": [],
   "source": []
  }
 ],
 "metadata": {
  "kernelspec": {
   "display_name": "Python 3 (ipykernel)",
   "language": "python",
   "name": "python3"
  },
  "language_info": {
   "codemirror_mode": {
    "name": "ipython",
    "version": 3
   },
   "file_extension": ".py",
   "mimetype": "text/x-python",
   "name": "python",
   "nbconvert_exporter": "python",
   "pygments_lexer": "ipython3",
   "version": "3.11.7"
  }
 },
 "nbformat": 4,
 "nbformat_minor": 5
}
