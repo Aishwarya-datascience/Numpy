{
 "cells": [
  {
   "cell_type": "code",
   "execution_count": null,
   "id": "93b7896d-82fb-482d-b5bb-2c76fcaad97f",
   "metadata": {},
   "outputs": [],
   "source": [
    "import numpy as np"
   ]
  },
  {
   "cell_type": "markdown",
   "id": "54d232d4-8d98-4cfc-b4d6-43c8615db37a",
   "metadata": {},
   "source": [
    "# numpy array vs python list"
   ]
  },
  {
   "cell_type": "code",
   "execution_count": null,
   "id": "c981b594-9b17-4c3a-8134-71b7eb36f126",
   "metadata": {},
   "outputs": [],
   "source": [
    "# 1)speed \n",
    "#list --->dynamic datatype and referencing \n",
    "a=[i  for i in range(10000000)]\n",
    "b=[i for i in range(10000000,20000000)]\n",
    "c=[]\n",
    "import time\n",
    "\n",
    "start=time.time()\n",
    "\n",
    "for i in range(len(a)):\n",
    "    c.append(a[i]+b[i])\n",
    "print(time.time()-start)"
   ]
  },
  {
   "cell_type": "code",
   "execution_count": null,
   "id": "f879188c-c895-4430-9700-a626d11b11c7",
   "metadata": {},
   "outputs": [],
   "source": [
    "#numpy array --->static and unlike list, numpy stores driect value \n",
    "a=np.arange(10000000)\n",
    "b=np.arange(10000000,20000000)\n",
    "start=time.time()\n",
    "c=a+b\n",
    "print(time.time()-start)"
   ]
  },
  {
   "cell_type": "code",
   "execution_count": null,
   "id": "2c450ddd-378b-4fb2-881a-2f58df20faa6",
   "metadata": {},
   "outputs": [],
   "source": [
    "# 2)memory\n",
    "a=[i for i in range(10000000)]\n",
    "import sys\n",
    "sys.getsizeof(a)"
   ]
  },
  {
   "cell_type": "code",
   "execution_count": null,
   "id": "fe9a8b7f-7b25-489a-867c-7f32abc39ca7",
   "metadata": {},
   "outputs": [],
   "source": [
    "r=np.arange(10000000)\n",
    "r.astype('int8')\n",
    "sys.getsizeof(r)\n"
   ]
  },
  {
   "cell_type": "code",
   "execution_count": null,
   "id": "83182ddb-404e-429f-b620-8c13744a7cba",
   "metadata": {},
   "outputs": [],
   "source": [
    "# converience\n",
    "\n"
   ]
  },
  {
   "cell_type": "markdown",
   "id": "8f5e50e8-6a5e-4679-b6ba-d1b80a084657",
   "metadata": {},
   "source": [
    "# Idexing and Slicing"
   ]
  },
  {
   "cell_type": "raw",
   "id": "edd6bc52-91e1-47b9-88f4-3fab70800ae8",
   "metadata": {},
   "source": [
    "1)1D,2D,3D Indexing\n",
    "2)Fancy Indexing\n",
    "3)Boolean Indexing & conditional Indexing"
   ]
  },
  {
   "cell_type": "code",
   "execution_count": null,
   "id": "2a30cf99-3672-489c-bbeb-465508ff4666",
   "metadata": {},
   "outputs": [],
   "source": [
    "a=np.arange(24).reshape(6,4)\n",
    "a"
   ]
  },
  {
   "cell_type": "code",
   "execution_count": null,
   "id": "46473aa3-ddde-4c73-bf05-211e80a0ec6a",
   "metadata": {},
   "outputs": [],
   "source": [
    "#fancy Indexing\n",
    "a[[0,2,3]]"
   ]
  },
  {
   "cell_type": "code",
   "execution_count": null,
   "id": "78cfa6d3-2c49-44eb-a3f4-486b077866df",
   "metadata": {},
   "outputs": [],
   "source": [
    "a[[0,2,3,5]]"
   ]
  },
  {
   "cell_type": "code",
   "execution_count": null,
   "id": "a944be02-bff2-4897-b80a-25365a43b88b",
   "metadata": {},
   "outputs": [],
   "source": [
    "a[:,[0,2,3]]"
   ]
  },
  {
   "cell_type": "code",
   "execution_count": null,
   "id": "2586aee6-e15a-41e0-be82-24be51bde3f0",
   "metadata": {},
   "outputs": [],
   "source": [
    "# Boolean Indexing \n",
    "a=np.random.randint(1,100,24).reshape(6,4)\n",
    "a"
   ]
  },
  {
   "cell_type": "code",
   "execution_count": null,
   "id": "2fbc2d12-6835-4b91-8044-621123a54dc3",
   "metadata": {},
   "outputs": [],
   "source": [
    "#fetch the items where a>50 ?\n",
    "a[a>50]"
   ]
  },
  {
   "cell_type": "code",
   "execution_count": null,
   "id": "cf697f6f-f0a6-4571-be6a-b86d6bab5af5",
   "metadata": {},
   "outputs": [],
   "source": [
    "#find out  even numbers?\n",
    "a[a %2==0]"
   ]
  },
  {
   "cell_type": "code",
   "execution_count": null,
   "id": "e2b37ea8-1873-4420-b739-5a46a5ef20eb",
   "metadata": {},
   "outputs": [],
   "source": [
    "# how many values are greater than 50 and aslo even?\n",
    "a[(a>50) & (a%2==0)]"
   ]
  },
  {
   "cell_type": "code",
   "execution_count": null,
   "id": "b846a8cb-930f-4cc2-91f3-857cca4458a2",
   "metadata": {},
   "outputs": [],
   "source": [
    "#find all numbers divisible by 7?\n",
    "a[a%7==0]"
   ]
  },
  {
   "cell_type": "markdown",
   "id": "3ae74305-19b4-41bb-b572-19e667519ebb",
   "metadata": {},
   "source": [
    "# Broadcasting"
   ]
  },
  {
   "cell_type": "code",
   "execution_count": null,
   "id": "e4d66f3a-9f08-4b81-8d59-d339dbb9faab",
   "metadata": {},
   "outputs": [],
   "source": [
    "#Numpy internally perform broadcaste on arrays with different shapes during Arithmetic operations\n",
    "a=np.arange(12).reshape(4,3)\n",
    "b=np.arange(3)\n",
    "print(a)\n",
    "print(b)"
   ]
  },
  {
   "cell_type": "code",
   "execution_count": null,
   "id": "8657c210-0eeb-4471-acb0-07824f15b469",
   "metadata": {},
   "outputs": [],
   "source": [
    "c=a+b\n",
    "print(c)"
   ]
  },
  {
   "cell_type": "code",
   "execution_count": null,
   "id": "e852ed5a-f486-4c2e-8671-b2051c6aad54",
   "metadata": {},
   "outputs": [],
   "source": [
    "a=np.arange(12).reshape(3,4)\n",
    "b=np.arange(3)\n",
    "print(a)\n",
    "print(b)\n",
    "print(a+b) #error"
   ]
  },
  {
   "cell_type": "code",
   "execution_count": null,
   "id": "cbddeea5-a669-4911-a78b-cb4b41ffc20d",
   "metadata": {},
   "outputs": [],
   "source": [
    "a=np.arange(3).reshape(1,3)\n",
    "b=np.arange(3).reshape(3,1)\n",
    "print(a)\n",
    "print(b)\n",
    "print(a+b)"
   ]
  },
  {
   "cell_type": "markdown",
   "id": "3614c9ac-280b-473b-949a-f704cea1a254",
   "metadata": {},
   "source": [
    "# mathematical formulas"
   ]
  },
  {
   "cell_type": "code",
   "execution_count": null,
   "id": "3955a4e7-88ef-4872-99bf-6379c6c0fb2c",
   "metadata": {},
   "outputs": [],
   "source": [
    "a=np.arange(10)\n",
    "a"
   ]
  },
  {
   "cell_type": "code",
   "execution_count": null,
   "id": "ac75a043-3c69-433a-9db8-78baf50a1237",
   "metadata": {},
   "outputs": [],
   "source": [
    "# sigmoid\n",
    "def sigmoid(array):\n",
    "    return 1/(1+np.exp(-(array)))"
   ]
  },
  {
   "cell_type": "code",
   "execution_count": null,
   "id": "34abb944-6769-4a01-b3bb-8f239c854443",
   "metadata": {},
   "outputs": [],
   "source": [
    "sigmoid(a)"
   ]
  },
  {
   "cell_type": "code",
   "execution_count": null,
   "id": "ddbbe96d-5762-4d3a-bdc0-8952227b15ce",
   "metadata": {},
   "outputs": [],
   "source": [
    "#  mean  squared error \n",
    "actual=np.random.randint(1,50,25)\n",
    "predicted=np.random.randint(1,50,25)\n",
    "    "
   ]
  },
  {
   "cell_type": "code",
   "execution_count": null,
   "id": "c99ddbd1-a6da-4189-8c9c-e62b00e06f93",
   "metadata": {},
   "outputs": [],
   "source": [
    "def mse(actual,predicted):\n",
    "    return np.mean((actual-predicted)**2)"
   ]
  },
  {
   "cell_type": "code",
   "execution_count": null,
   "id": "d3ba2d2f-71a8-41b7-a8e6-02fcb70934c6",
   "metadata": {},
   "outputs": [],
   "source": [
    "mse(actual,predicted)"
   ]
  },
  {
   "cell_type": "markdown",
   "id": "97819924-4124-496b-9adb-53281bd5d66c",
   "metadata": {},
   "source": [
    "# working with missing values"
   ]
  },
  {
   "cell_type": "code",
   "execution_count": null,
   "id": "6fc0b762-96c5-46c8-9b70-566c293ca58f",
   "metadata": {},
   "outputs": [],
   "source": [
    "a=np.array([1,2,3,4,np.nan,6])\n",
    "a"
   ]
  },
  {
   "cell_type": "code",
   "execution_count": null,
   "id": "208c8712-8e43-4018-8698-a72f0d0952c5",
   "metadata": {},
   "outputs": [],
   "source": [
    "a[np.isnan(a)] #Boolean Indexing"
   ]
  },
  {
   "cell_type": "code",
   "execution_count": null,
   "id": "1be57491-dcff-4caf-a7a8-c274d255d978",
   "metadata": {},
   "outputs": [],
   "source": [
    "a[~np.isnan(a)]"
   ]
  },
  {
   "cell_type": "markdown",
   "id": "162a5e87-ec30-4674-9c19-54be9e216bcf",
   "metadata": {},
   "source": [
    "# plotting Graphs"
   ]
  },
  {
   "cell_type": "code",
   "execution_count": null,
   "id": "6cad153e-fe71-4a36-ab46-4acef48d829a",
   "metadata": {},
   "outputs": [],
   "source": [
    "#x=y\n",
    "x=np.linspace(-10,10,100)\n",
    "y=x\n",
    "y"
   ]
  },
  {
   "cell_type": "code",
   "execution_count": null,
   "id": "35bc8893-6f78-48fb-a03e-a172b47e270c",
   "metadata": {},
   "outputs": [],
   "source": [
    "import matplotlib.pyplot as plt"
   ]
  },
  {
   "cell_type": "code",
   "execution_count": null,
   "id": "57f531de-acdf-4c97-bc57-1fc292a5f3cb",
   "metadata": {},
   "outputs": [],
   "source": [
    "plt.plot(x,y)"
   ]
  },
  {
   "cell_type": "code",
   "execution_count": null,
   "id": "03975ed2-cdf4-4a62-922a-129aece45a8a",
   "metadata": {},
   "outputs": [],
   "source": [
    "#y=x^2\n",
    "y=x**2\n",
    "\n",
    "plt.plot(x,y)"
   ]
  },
  {
   "cell_type": "code",
   "execution_count": null,
   "id": "fffc3557-cfb6-43f0-a858-07b07be7d8d1",
   "metadata": {},
   "outputs": [],
   "source": [
    "#y=sin(x)\n",
    "y=np.sin(x)\n",
    "plt.plot(x,y)"
   ]
  },
  {
   "cell_type": "code",
   "execution_count": null,
   "id": "e456388c-e15c-46f9-954f-b40961c5d235",
   "metadata": {},
   "outputs": [],
   "source": [
    "#y=xlogx\n",
    "y=x*np.log(x)\n",
    "plt.plot(x,y)"
   ]
  },
  {
   "cell_type": "code",
   "execution_count": null,
   "id": "fc87d184-d603-47ba-93e3-a88ffc01757b",
   "metadata": {},
   "outputs": [],
   "source": [
    "#plotting a scatter plot\n",
    "plt.scatter(x,y,color='pink')"
   ]
  }
 ],
 "metadata": {
  "kernelspec": {
   "display_name": "Python 3 (ipykernel)",
   "language": "python",
   "name": "python3"
  },
  "language_info": {
   "codemirror_mode": {
    "name": "ipython",
    "version": 3
   },
   "file_extension": ".py",
   "mimetype": "text/x-python",
   "name": "python",
   "nbconvert_exporter": "python",
   "pygments_lexer": "ipython3",
   "version": "3.11.7"
  }
 },
 "nbformat": 4,
 "nbformat_minor": 5
}
