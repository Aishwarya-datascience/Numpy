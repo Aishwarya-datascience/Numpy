{
 "cells": [
  {
   "cell_type": "code",
   "execution_count": null,
   "id": "8feb3ec5-faa9-466b-b871-8d271de351ca",
   "metadata": {},
   "outputs": [],
   "source": [
    "import numpy as np"
   ]
  },
  {
   "cell_type": "markdown",
   "id": "49a7a5e8-3534-4166-8634-1ab16a41ad2a",
   "metadata": {},
   "source": [
    "# Creating Numpy Arrays"
   ]
  },
  {
   "cell_type": "raw",
   "id": "8d3d7dc3-f357-4d4a-aa37-3aec29a5a799",
   "metadata": {},
   "source": [
    "#np.array\n",
    "#np.arange\n",
    "#np.random with reshape\n",
    "#np.ones and np.zeros\n",
    "#np.linspace\n",
    "#np.indentity\n",
    "#np.eye\n",
    "#np.full"
   ]
  },
  {
   "cell_type": "code",
   "execution_count": null,
   "id": "8132bfce-bf6f-44d0-9bae-ccd415bc499c",
   "metadata": {},
   "outputs": [],
   "source": [
    "#np.array\n",
    "n=np.array([1,2,3])\n",
    "print(n) #1D or vector\n",
    "print(type(n))"
   ]
  },
  {
   "cell_type": "code",
   "execution_count": null,
   "id": "e670f0d5-dc80-47b3-abec-ba1673482907",
   "metadata": {},
   "outputs": [],
   "source": [
    "#2D\n",
    "n1=np.array([[1,2,3],[3,2,1]])\n",
    "print(n1) #2D or matrix"
   ]
  },
  {
   "cell_type": "code",
   "execution_count": null,
   "id": "f457706b-d446-4d9d-9fb6-b9907bfddd41",
   "metadata": {},
   "outputs": [],
   "source": [
    "#3D\n",
    "n2=np.array([[[1,2],[3,4]],[[4,3],[2,1]]])\n",
    "print(n2) "
   ]
  },
  {
   "cell_type": "code",
   "execution_count": null,
   "id": "6558b0c7-a044-4b60-a1cc-5a7da1eb4561",
   "metadata": {},
   "outputs": [],
   "source": [
    "# dtype\n",
    "n3=np.array([1,2,3],dtype=float)\n",
    "print(n3)"
   ]
  },
  {
   "cell_type": "code",
   "execution_count": null,
   "id": "3944f072-9cc7-44d7-ad4c-5da2b1724b25",
   "metadata": {},
   "outputs": [],
   "source": [
    "#np.arange -->same like range() in python\n",
    "np.arange(1,11) #last value excluded\n",
    "'np.arange(1,11,2)'"
   ]
  },
  {
   "cell_type": "code",
   "execution_count": null,
   "id": "d33ddca9-ff4b-4bfe-92f0-f5cdc156a3e2",
   "metadata": {},
   "outputs": [],
   "source": [
    "#np.arange with reshape --->converting given one Dimension to other Dimension\n",
    "np.arange(1,11).reshape(5,2)"
   ]
  },
  {
   "cell_type": "code",
   "execution_count": null,
   "id": "b1cf2fe7-fa88-42f2-900b-a66bac1c132e",
   "metadata": {},
   "outputs": [],
   "source": [
    "#np.ones \n",
    "np.ones((3,4),dtype=int)"
   ]
  },
  {
   "cell_type": "code",
   "execution_count": null,
   "id": "d8572755-fcfd-4182-b237-4de5bf7b6ac2",
   "metadata": {},
   "outputs": [],
   "source": [
    "#np.zeros()\n",
    "np.zeros((3,2))"
   ]
  },
  {
   "cell_type": "code",
   "execution_count": null,
   "id": "8e471fce-9c87-4ab5-a0a9-ba67822532b3",
   "metadata": {},
   "outputs": [],
   "source": [
    "#np.random\n",
    "np.random.random((3,4))"
   ]
  },
  {
   "cell_type": "code",
   "execution_count": null,
   "id": "3634f916-4d11-41b6-86d2-931274d5aed7",
   "metadata": {},
   "outputs": [],
   "source": [
    "#np.linspace --->linear space\n",
    "np.linspace(-10,10,5)"
   ]
  },
  {
   "cell_type": "code",
   "execution_count": null,
   "id": "8d634722-338a-41c3-8fb2-911c2ce0ada1",
   "metadata": {},
   "outputs": [],
   "source": [
    "#np.identity\n",
    "np.identity(3)"
   ]
  },
  {
   "cell_type": "code",
   "execution_count": null,
   "id": "aebfecc9-43b4-4205-9922-c22c51c47193",
   "metadata": {},
   "outputs": [],
   "source": [
    "#np.eye\n",
    "np.eye(3,3,k=1)"
   ]
  },
  {
   "cell_type": "code",
   "execution_count": null,
   "id": "e2f7f281-5fd9-446f-8292-cf3435c6e1fa",
   "metadata": {},
   "outputs": [],
   "source": [
    "#np.full\n",
    "np.full((3,3),3)"
   ]
  },
  {
   "cell_type": "markdown",
   "id": "51a83f5f-274a-448e-9940-1aa2a91dc1b9",
   "metadata": {},
   "source": [
    "# Array Attributes"
   ]
  },
  {
   "cell_type": "raw",
   "id": "e90b60b1-841c-4f15-b3ed-a30aade00c07",
   "metadata": {},
   "source": [
    "#np.ndim\n",
    "#np.shape\n",
    "#np.size\n",
    "#np.itemsize\n",
    "#np.dtype"
   ]
  },
  {
   "cell_type": "code",
   "execution_count": null,
   "id": "e6ca088a-86d0-4cea-9e71-3b334104ae42",
   "metadata": {},
   "outputs": [],
   "source": [
    "a1=np.arange(10)  #vector\n",
    "a2=np.arange(12).reshape(3,4) #matrix\n",
    "a3=np.arange(8).reshape(2,2,2) #tensor"
   ]
  },
  {
   "cell_type": "code",
   "execution_count": null,
   "id": "8bff2aa3-3476-45e9-b619-68a5fd884a11",
   "metadata": {},
   "outputs": [],
   "source": [
    "#ndim -->numder of dimensions\n",
    "'a1.ndim'\n",
    "a3.ndim"
   ]
  },
  {
   "cell_type": "code",
   "execution_count": null,
   "id": "ffb7d1fb-67a4-4b3b-9573-e1f6d7ca8043",
   "metadata": {},
   "outputs": [],
   "source": [
    "#shape\n",
    "a1.shape\n",
    "a2.shape\n",
    "a3.shape"
   ]
  },
  {
   "cell_type": "code",
   "execution_count": null,
   "id": "f224ebee-44e7-46d2-8862-4264373cbcc4",
   "metadata": {},
   "outputs": [],
   "source": [
    "#size -->numder of items \n",
    "a1.size\n",
    "a2.size"
   ]
  },
  {
   "cell_type": "code",
   "execution_count": null,
   "id": "e0965997-d90e-4842-a9a4-d1a376fbf49c",
   "metadata": {},
   "outputs": [],
   "source": [
    "#itemsize\n",
    "a1.itemsize  #memory occupied -->4 bytes"
   ]
  },
  {
   "cell_type": "code",
   "execution_count": null,
   "id": "c306335e-c81f-4d1e-8d79-fc68e223ca33",
   "metadata": {},
   "outputs": [],
   "source": [
    "#dtype\n",
    "print(a1.dtype)\n",
    "print(a2.dtype)\n",
    "print(a3.dtype)"
   ]
  },
  {
   "cell_type": "markdown",
   "id": "5c38465b-9ecb-4758-b08c-ac41f061c016",
   "metadata": {},
   "source": [
    "# changing Datatypes"
   ]
  },
  {
   "cell_type": "code",
   "execution_count": null,
   "id": "de5f843b-5396-436f-a72d-7eecc899539d",
   "metadata": {},
   "outputs": [],
   "source": [
    "#astype--->saves memory space\n",
    "a1.dtype #int32\n",
    "#a1.astype('int8') \n",
    "a1.astype(np.int8)"
   ]
  },
  {
   "cell_type": "markdown",
   "id": "0deba5c5-805d-4c4f-9c72-d2443071b6d4",
   "metadata": {},
   "source": [
    "# Array operations"
   ]
  },
  {
   "cell_type": "code",
   "execution_count": null,
   "id": "fe3baaad-46e5-4dda-80f4-69a14001897a",
   "metadata": {},
   "outputs": [],
   "source": [
    "a1=np.arange(12).reshape(3,4)\n",
    "a2=np.arange(12,24).reshape(3,4)"
   ]
  },
  {
   "cell_type": "raw",
   "id": "d142bef5-2e87-4aff-aad1-38c00505fb0f",
   "metadata": {},
   "source": [
    "scalar opeations"
   ]
  },
  {
   "cell_type": "code",
   "execution_count": null,
   "id": "f52b9589-b266-433e-bdc7-3a7714cc59e7",
   "metadata": {},
   "outputs": [],
   "source": [
    "#arithmetic\n",
    "a1*2      \n"
   ]
  },
  {
   "cell_type": "code",
   "execution_count": null,
   "id": "1b559bc9-ca86-4a30-b67e-f0628d63fe43",
   "metadata": {},
   "outputs": [],
   "source": [
    "#relational\n",
    "a1>5"
   ]
  },
  {
   "cell_type": "raw",
   "id": "47caada0-90c9-4b66-9a83-2d1db0c6a571",
   "metadata": {},
   "source": [
    "vector operations"
   ]
  },
  {
   "cell_type": "code",
   "execution_count": null,
   "id": "b13af621-5cba-42f6-8039-9d53f75bb2c7",
   "metadata": {},
   "outputs": [],
   "source": [
    "#arithmetic\n",
    "a1+a2  #element-wise addition"
   ]
  },
  {
   "cell_type": "code",
   "execution_count": null,
   "id": "028f3fb7-327e-44d7-a704-ca4c1f61a7cd",
   "metadata": {},
   "outputs": [],
   "source": [
    "a1**a2"
   ]
  },
  {
   "cell_type": "markdown",
   "id": "25785291-d125-4a1d-8439-0009e0c3e4ed",
   "metadata": {},
   "source": [
    "# Array Functions"
   ]
  },
  {
   "cell_type": "code",
   "execution_count": null,
   "id": "f5f4ff90-fb11-44df-87d1-da3fa75b2107",
   "metadata": {},
   "outputs": [],
   "source": [
    "a1=np.random.random(9).reshape(3,3)\n",
    "a2=np.round(a1*100)"
   ]
  },
  {
   "cell_type": "code",
   "execution_count": null,
   "id": "99bd72c0-398d-4595-8051-493b87644831",
   "metadata": {},
   "outputs": [],
   "source": [
    "#min/mx/sum/prod\n",
    "'a2.min()'\n",
    "a2.min(axis=1) # axis= 0 (col) or 1 (row)\n",
    "\"np.min(a2,axis=1)\n",
    "#a2.max()\n",
    "#a2.sum()\n",
    "#a3.prod()"
   ]
  },
  {
   "cell_type": "code",
   "execution_count": null,
   "id": "111ecd73-a78e-45c3-b507-a87d5db8cb4f",
   "metadata": {},
   "outputs": [],
   "source": [
    "#mean/median/std/var\n",
    "np.mean(a1,axis=1)\n",
    "np.median(a1,axis=1)\n",
    "#np.std(a1,axis=0)\n",
    "#np.var(a1,axis=0)"
   ]
  },
  {
   "cell_type": "code",
   "execution_count": null,
   "id": "8c42b650-5189-426a-a228-c9aea925b074",
   "metadata": {},
   "outputs": [],
   "source": [
    "# trigonomoetric functions\n",
    "np.sin(a1)"
   ]
  },
  {
   "cell_type": "code",
   "execution_count": null,
   "id": "a69f0afd-6b26-452d-8fbf-8e2001ec1c93",
   "metadata": {},
   "outputs": [],
   "source": [
    "# Dot product >\n",
    "a1=np.arange(8).reshape(4,2)\n",
    "a2=np.arange(8).reshape(2,4)"
   ]
  },
  {
   "cell_type": "code",
   "execution_count": null,
   "id": "7c0cb087-671e-4b18-855a-6f6ac73739f8",
   "metadata": {},
   "outputs": [],
   "source": [
    "np.dot(a1,a2)"
   ]
  },
  {
   "cell_type": "code",
   "execution_count": null,
   "id": "37384704-8455-4e7f-8af9-be16fbef0884",
   "metadata": {},
   "outputs": [],
   "source": [
    "#np.log and np.exponents\n",
    "np.log(a2)\n",
    "np.exp(a1)"
   ]
  },
  {
   "cell_type": "code",
   "execution_count": null,
   "id": "657bdecc-165b-4d50-9861-0b0496e925a1",
   "metadata": {},
   "outputs": [],
   "source": [
    "#round/floor/ceil\n",
    "r=np.random.random((3,3))*100\n",
    "np.floor(r)\n",
    "np.ceil(r)"
   ]
  },
  {
   "cell_type": "markdown",
   "id": "df510d9c-e142-420f-9973-8125f68abf54",
   "metadata": {},
   "source": [
    "# indexing and slicing"
   ]
  },
  {
   "cell_type": "code",
   "execution_count": null,
   "id": "e3918835-ceae-4e3a-bd8d-adec0803702b",
   "metadata": {},
   "outputs": [],
   "source": [
    "a1=np.arange(10)\n",
    "a2=np.arange(12).reshape(3,4)\n",
    "a3=np.arange(8).reshape(2,2,2)"
   ]
  },
  {
   "cell_type": "code",
   "execution_count": null,
   "id": "48e90e13-e37b-42f4-8f81-b865c664fc31",
   "metadata": {},
   "outputs": [],
   "source": [
    "a1[0] # a1[-10]"
   ]
  },
  {
   "cell_type": "code",
   "execution_count": null,
   "id": "304feeee-5517-4980-bf6d-fbd28dfd56dd",
   "metadata": {},
   "outputs": [],
   "source": [
    "a2[0][1] #2d indexing"
   ]
  },
  {
   "cell_type": "code",
   "execution_count": null,
   "id": "b8f667f2-84c5-48d7-b0fe-da55ff62900f",
   "metadata": {},
   "outputs": [],
   "source": [
    "a2[1,2]"
   ]
  },
  {
   "cell_type": "code",
   "execution_count": null,
   "id": "78b97c1c-9eb0-4ee4-a16b-f2997d0b041b",
   "metadata": {},
   "outputs": [],
   "source": [
    "a3[1,1,1] #3d indexing"
   ]
  },
  {
   "cell_type": "code",
   "execution_count": null,
   "id": "d7d00e24-fb8e-4f97-adab-26d019c46109",
   "metadata": {},
   "outputs": [],
   "source": [
    "a1[2:5] #slicing"
   ]
  },
  {
   "cell_type": "code",
   "execution_count": null,
   "id": "5521f59e-08dc-4063-b708-78aa0caa6284",
   "metadata": {},
   "outputs": [],
   "source": [
    "a2[ : ,: 2] "
   ]
  },
  {
   "cell_type": "code",
   "execution_count": null,
   "id": "27773c36-c378-47f1-8b91-136cffd71ef0",
   "metadata": {},
   "outputs": [],
   "source": [
    "a3=np.arange(27).reshape(3,3,3)\n",
    "a3"
   ]
  },
  {
   "cell_type": "code",
   "execution_count": null,
   "id": "cd8742b2-f963-411a-980c-0c8e2364139e",
   "metadata": {},
   "outputs": [],
   "source": [
    "a3[0,1,:]"
   ]
  },
  {
   "cell_type": "code",
   "execution_count": null,
   "id": "61f51a1a-edd0-4904-a792-6e71855825d4",
   "metadata": {},
   "outputs": [],
   "source": [
    "a3[1,:,1]"
   ]
  },
  {
   "cell_type": "code",
   "execution_count": null,
   "id": "88fc0e46-5803-4007-a237-537879682a28",
   "metadata": {},
   "outputs": [],
   "source": [
    "a3[2,1:,1:]"
   ]
  },
  {
   "cell_type": "code",
   "execution_count": null,
   "id": "3b57f2d7-658e-4920-96db-b77a627f0836",
   "metadata": {},
   "outputs": [],
   "source": [
    "a3[: :2,0,: :2]"
   ]
  },
  {
   "cell_type": "markdown",
   "id": "1a50e232-d5f5-40eb-8a20-fe108de58282",
   "metadata": {},
   "source": [
    "# Iterating\n"
   ]
  },
  {
   "cell_type": "code",
   "execution_count": null,
   "id": "373ac458-b9f8-4cbe-9586-8cc68ab5200e",
   "metadata": {},
   "outputs": [],
   "source": [
    "a1\n",
    "for i in a1:\n",
    "    print(i)"
   ]
  },
  {
   "cell_type": "code",
   "execution_count": null,
   "id": "90c3f218-2bde-4fb0-9455-18468f9c2c9d",
   "metadata": {},
   "outputs": [],
   "source": [
    "a2\n",
    "for i in a2:\n",
    "    print(i)  "
   ]
  },
  {
   "cell_type": "code",
   "execution_count": null,
   "id": "fdc85c9f-44f5-409f-8f53-2bccb611bb2b",
   "metadata": {},
   "outputs": [],
   "source": [
    "a3\n",
    "for i in a3:\n",
    "    print(i)"
   ]
  },
  {
   "cell_type": "code",
   "execution_count": null,
   "id": "65911048-981d-4645-9363-718cb53b03b0",
   "metadata": {},
   "outputs": [],
   "source": [
    "#np.nditer coverts 3D to 1D\n",
    "for i in np.nditer(a3): \n",
    "    print(i)"
   ]
  },
  {
   "cell_type": "markdown",
   "id": "411b2c91-c1a1-49f5-b922-5b6b06350aa2",
   "metadata": {},
   "source": [
    "# reshaping"
   ]
  },
  {
   "cell_type": "markdown",
   "id": "11c07d3e-aa48-4768-9915-74bbda64e078",
   "metadata": {},
   "source": [
    "-reshape\n",
    "-Transpose\n",
    "-ravel"
   ]
  },
  {
   "cell_type": "code",
   "execution_count": null,
   "id": "01f3b867-9ac8-45fe-9d92-83071a3dc88b",
   "metadata": {},
   "outputs": [],
   "source": [
    "a2"
   ]
  },
  {
   "cell_type": "code",
   "execution_count": null,
   "id": "9ce3a9b4-7979-4440-b29c-59875a6bf47c",
   "metadata": {},
   "outputs": [],
   "source": [
    "#np.transpose(a2)\n",
    "a2.T"
   ]
  },
  {
   "cell_type": "code",
   "execution_count": null,
   "id": "f7fa78aa-2e41-4d14-a9e9-1548fd25f762",
   "metadata": {},
   "outputs": [],
   "source": [
    "#ravel --->converts to 1D\n",
    "a2.ravel()"
   ]
  },
  {
   "cell_type": "markdown",
   "id": "d09fd138-e607-4a5a-a370-59020c4ca999",
   "metadata": {},
   "source": [
    "# stacking"
   ]
  },
  {
   "cell_type": "code",
   "execution_count": null,
   "id": "0f7acc3a-b006-4611-9dd9-01206e6420f7",
   "metadata": {},
   "outputs": [],
   "source": [
    "#horizontal stacking\n",
    "a1=np.arange(12).reshape(3,4)\n",
    "a2=np.arange(12,24).reshape(3,4)"
   ]
  },
  {
   "cell_type": "code",
   "execution_count": null,
   "id": "8b77e325-588a-4646-ab65-bc58ff2812f6",
   "metadata": {},
   "outputs": [],
   "source": [
    "s=np.hstack((a1,a2))\n",
    "s"
   ]
  },
  {
   "cell_type": "code",
   "execution_count": null,
   "id": "3e071899-bb07-49f0-b65d-2e52bbc7c3b6",
   "metadata": {},
   "outputs": [],
   "source": [
    "#vertical stacking\n",
    "np.vstack((a1,a2))"
   ]
  },
  {
   "cell_type": "markdown",
   "id": "bff32b9d-cc67-41a1-bed5-ed4f24815660",
   "metadata": {},
   "source": [
    "# splitting "
   ]
  },
  {
   "cell_type": "code",
   "execution_count": null,
   "id": "2de57479-f675-4512-a999-683f0c264f37",
   "metadata": {},
   "outputs": [],
   "source": [
    "#horizontal splitting\n",
    "s"
   ]
  },
  {
   "cell_type": "code",
   "execution_count": null,
   "id": "b9f47652-9f18-4594-b808-13f5965ad728",
   "metadata": {},
   "outputs": [],
   "source": [
    "np.hsplit(s,2)"
   ]
  },
  {
   "cell_type": "code",
   "execution_count": null,
   "id": "f61f629d-bc63-404f-93d6-575f2e32d700",
   "metadata": {},
   "outputs": [],
   "source": [
    "h=np.vsplit(s,1)\n"
   ]
  },
  {
   "cell_type": "code",
   "execution_count": 228,
   "id": "816a4df5-b836-423d-8947-b537e4fffea5",
   "metadata": {},
   "outputs": [
    {
     "name": "stdout",
     "output_type": "stream",
     "text": [
      "On branch master\n",
      "nothing to commit, working tree clean\n"
     ]
    }
   ],
   "source": [
    "!git "
   ]
  },
  {
   "cell_type": "code",
   "execution_count": null,
   "id": "4a221538-7018-4c60-85c5-19cfc561035a",
   "metadata": {},
   "outputs": [],
   "source": []
  }
 ],
 "metadata": {
  "kernelspec": {
   "display_name": "Python 3 (ipykernel)",
   "language": "python",
   "name": "python3"
  },
  "language_info": {
   "codemirror_mode": {
    "name": "ipython",
    "version": 3
   },
   "file_extension": ".py",
   "mimetype": "text/x-python",
   "name": "python",
   "nbconvert_exporter": "python",
   "pygments_lexer": "ipython3",
   "version": "3.11.7"
  }
 },
 "nbformat": 4,
 "nbformat_minor": 5
}
