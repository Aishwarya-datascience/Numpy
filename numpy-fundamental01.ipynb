{
 "cells": [
  {
   "cell_type": "code",
   "execution_count": 1,
   "id": "8feb3ec5-faa9-466b-b871-8d271de351ca",
   "metadata": {},
   "outputs": [],
   "source": [
    "import numpy as np"
   ]
  },
  {
   "cell_type": "markdown",
   "id": "49a7a5e8-3534-4166-8634-1ab16a41ad2a",
   "metadata": {},
   "source": [
    "# Creating Numpy Arrays"
   ]
  },
  {
   "cell_type": "raw",
   "id": "8d3d7dc3-f357-4d4a-aa37-3aec29a5a799",
   "metadata": {},
   "source": [
    "#np.array\n",
    "#np.arange\n",
    "#np.random with reshape\n",
    "#np.ones and np.zeros\n",
    "#np.linspace\n",
    "#np.indentity\n",
    "#np.eye\n",
    "#np.full"
   ]
  },
  {
   "cell_type": "code",
   "execution_count": 2,
   "id": "8132bfce-bf6f-44d0-9bae-ccd415bc499c",
   "metadata": {},
   "outputs": [
    {
     "name": "stdout",
     "output_type": "stream",
     "text": [
      "[1 2 3]\n",
      "<class 'numpy.ndarray'>\n"
     ]
    }
   ],
   "source": [
    "#np.array\n",
    "n=np.array([1,2,3])\n",
    "print(n) #1D or vector\n",
    "print(type(n))"
   ]
  },
  {
   "cell_type": "code",
   "execution_count": 3,
   "id": "e670f0d5-dc80-47b3-abec-ba1673482907",
   "metadata": {},
   "outputs": [
    {
     "name": "stdout",
     "output_type": "stream",
     "text": [
      "[[1 2 3]\n",
      " [3 2 1]]\n"
     ]
    }
   ],
   "source": [
    "#2D\n",
    "n1=np.array([[1,2,3],[3,2,1]])\n",
    "print(n1) #2D or matrix"
   ]
  },
  {
   "cell_type": "code",
   "execution_count": 4,
   "id": "f457706b-d446-4d9d-9fb6-b9907bfddd41",
   "metadata": {},
   "outputs": [
    {
     "name": "stdout",
     "output_type": "stream",
     "text": [
      "[[[1 2]\n",
      "  [3 4]]\n",
      "\n",
      " [[4 3]\n",
      "  [2 1]]]\n"
     ]
    }
   ],
   "source": [
    "#3D\n",
    "n2=np.array([[[1,2],[3,4]],[[4,3],[2,1]]])\n",
    "print(n2) "
   ]
  },
  {
   "cell_type": "code",
   "execution_count": 5,
   "id": "6558b0c7-a044-4b60-a1cc-5a7da1eb4561",
   "metadata": {},
   "outputs": [
    {
     "name": "stdout",
     "output_type": "stream",
     "text": [
      "[1. 2. 3.]\n"
     ]
    }
   ],
   "source": [
    "# dtype\n",
    "n3=np.array([1,2,3],dtype=float)\n",
    "print(n3)"
   ]
  },
  {
   "cell_type": "code",
   "execution_count": 6,
   "id": "3944f072-9cc7-44d7-ad4c-5da2b1724b25",
   "metadata": {},
   "outputs": [
    {
     "data": {
      "text/plain": [
       "'np.arange(1,11,2)'"
      ]
     },
     "execution_count": 6,
     "metadata": {},
     "output_type": "execute_result"
    }
   ],
   "source": [
    "#np.arange -->same like range() in python\n",
    "np.arange(1,11) #last value excluded\n",
    "'np.arange(1,11,2)'"
   ]
  },
  {
   "cell_type": "code",
   "execution_count": 7,
   "id": "d33ddca9-ff4b-4bfe-92f0-f5cdc156a3e2",
   "metadata": {},
   "outputs": [
    {
     "data": {
      "text/plain": [
       "array([[ 1,  2],\n",
       "       [ 3,  4],\n",
       "       [ 5,  6],\n",
       "       [ 7,  8],\n",
       "       [ 9, 10]])"
      ]
     },
     "execution_count": 7,
     "metadata": {},
     "output_type": "execute_result"
    }
   ],
   "source": [
    "#np.arange with reshape --->converting given one Dimension to other Dimension\n",
    "np.arange(1,11).reshape(5,2)"
   ]
  },
  {
   "cell_type": "code",
   "execution_count": 8,
   "id": "b1cf2fe7-fa88-42f2-900b-a66bac1c132e",
   "metadata": {},
   "outputs": [
    {
     "data": {
      "text/plain": [
       "array([[1, 1, 1, 1],\n",
       "       [1, 1, 1, 1],\n",
       "       [1, 1, 1, 1]])"
      ]
     },
     "execution_count": 8,
     "metadata": {},
     "output_type": "execute_result"
    }
   ],
   "source": [
    "#np.ones \n",
    "np.ones((3,4),dtype=int)"
   ]
  },
  {
   "cell_type": "code",
   "execution_count": 9,
   "id": "d8572755-fcfd-4182-b237-4de5bf7b6ac2",
   "metadata": {},
   "outputs": [
    {
     "data": {
      "text/plain": [
       "array([[0., 0.],\n",
       "       [0., 0.],\n",
       "       [0., 0.]])"
      ]
     },
     "execution_count": 9,
     "metadata": {},
     "output_type": "execute_result"
    }
   ],
   "source": [
    "#np.zeros()\n",
    "np.zeros((3,2))"
   ]
  },
  {
   "cell_type": "code",
   "execution_count": 10,
   "id": "8e471fce-9c87-4ab5-a0a9-ba67822532b3",
   "metadata": {},
   "outputs": [
    {
     "data": {
      "text/plain": [
       "array([[0.37152208, 0.29246028, 0.06065628, 0.11410963],\n",
       "       [0.26467796, 0.63179497, 0.19468014, 0.4587636 ],\n",
       "       [0.66187018, 0.58115527, 0.76724935, 0.51611958]])"
      ]
     },
     "execution_count": 10,
     "metadata": {},
     "output_type": "execute_result"
    }
   ],
   "source": [
    "#np.random\n",
    "np.random.random((3,4))"
   ]
  },
  {
   "cell_type": "code",
   "execution_count": 11,
   "id": "3634f916-4d11-41b6-86d2-931274d5aed7",
   "metadata": {},
   "outputs": [
    {
     "data": {
      "text/plain": [
       "array([-10.,  -5.,   0.,   5.,  10.])"
      ]
     },
     "execution_count": 11,
     "metadata": {},
     "output_type": "execute_result"
    }
   ],
   "source": [
    "#np.linspace --->linear space\n",
    "np.linspace(-10,10,5)"
   ]
  },
  {
   "cell_type": "code",
   "execution_count": 13,
   "id": "8d634722-338a-41c3-8fb2-911c2ce0ada1",
   "metadata": {},
   "outputs": [
    {
     "data": {
      "text/plain": [
       "array([[1., 0., 0.],\n",
       "       [0., 1., 0.],\n",
       "       [0., 0., 1.]])"
      ]
     },
     "execution_count": 13,
     "metadata": {},
     "output_type": "execute_result"
    }
   ],
   "source": [
    "#np.identity\n",
    "np.identity(3)"
   ]
  },
  {
   "cell_type": "code",
   "execution_count": 17,
   "id": "aebfecc9-43b4-4205-9922-c22c51c47193",
   "metadata": {},
   "outputs": [
    {
     "data": {
      "text/plain": [
       "array([[0., 1., 0.],\n",
       "       [0., 0., 1.],\n",
       "       [0., 0., 0.]])"
      ]
     },
     "execution_count": 17,
     "metadata": {},
     "output_type": "execute_result"
    }
   ],
   "source": [
    "#np.eye\n",
    "np.eye(3,3,k=1)"
   ]
  },
  {
   "cell_type": "code",
   "execution_count": 18,
   "id": "e2f7f281-5fd9-446f-8292-cf3435c6e1fa",
   "metadata": {},
   "outputs": [
    {
     "data": {
      "text/plain": [
       "array([[3, 3, 3],\n",
       "       [3, 3, 3],\n",
       "       [3, 3, 3]])"
      ]
     },
     "execution_count": 18,
     "metadata": {},
     "output_type": "execute_result"
    }
   ],
   "source": [
    "#np.full\n",
    "np.full((3,3),3)"
   ]
  },
  {
   "cell_type": "markdown",
   "id": "51a83f5f-274a-448e-9940-1aa2a91dc1b9",
   "metadata": {},
   "source": [
    "# Array Attributes"
   ]
  },
  {
   "cell_type": "raw",
   "id": "e90b60b1-841c-4f15-b3ed-a30aade00c07",
   "metadata": {},
   "source": [
    "#np.ndim\n",
    "#np.shape\n",
    "#np.size\n",
    "#np.itemsize\n",
    "#np.dtype"
   ]
  },
  {
   "cell_type": "code",
   "execution_count": 33,
   "id": "e6ca088a-86d0-4cea-9e71-3b334104ae42",
   "metadata": {},
   "outputs": [],
   "source": [
    "a1=np.arange(10)  #vector\n",
    "a2=np.arange(12).reshape(3,4) #matrix\n",
    "a3=np.arange(8).reshape(2,2,2) #tensor"
   ]
  },
  {
   "cell_type": "code",
   "execution_count": 22,
   "id": "8bff2aa3-3476-45e9-b619-68a5fd884a11",
   "metadata": {},
   "outputs": [
    {
     "data": {
      "text/plain": [
       "3"
      ]
     },
     "execution_count": 22,
     "metadata": {},
     "output_type": "execute_result"
    }
   ],
   "source": [
    "#ndim -->numder of dimensions\n",
    "'a1.ndim'\n",
    "a3.ndim"
   ]
  },
  {
   "cell_type": "code",
   "execution_count": 34,
   "id": "ffb7d1fb-67a4-4b3b-9573-e1f6d7ca8043",
   "metadata": {},
   "outputs": [
    {
     "data": {
      "text/plain": [
       "(2, 2, 2)"
      ]
     },
     "execution_count": 34,
     "metadata": {},
     "output_type": "execute_result"
    }
   ],
   "source": [
    "#shape\n",
    "a1.shape\n",
    "a2.shape\n",
    "a3.shape"
   ]
  },
  {
   "cell_type": "code",
   "execution_count": 37,
   "id": "f224ebee-44e7-46d2-8862-4264373cbcc4",
   "metadata": {},
   "outputs": [
    {
     "data": {
      "text/plain": [
       "12"
      ]
     },
     "execution_count": 37,
     "metadata": {},
     "output_type": "execute_result"
    }
   ],
   "source": [
    "#size -->numder of items \n",
    "a1.size\n",
    "a2.size"
   ]
  },
  {
   "cell_type": "code",
   "execution_count": 51,
   "id": "e0965997-d90e-4842-a9a4-d1a376fbf49c",
   "metadata": {},
   "outputs": [
    {
     "data": {
      "text/plain": [
       "4"
      ]
     },
     "execution_count": 51,
     "metadata": {},
     "output_type": "execute_result"
    }
   ],
   "source": [
    "#itemsize\n",
    "a1.itemsize  #memory occupied -->4 bytes"
   ]
  },
  {
   "cell_type": "code",
   "execution_count": 53,
   "id": "c306335e-c81f-4d1e-8d79-fc68e223ca33",
   "metadata": {},
   "outputs": [
    {
     "name": "stdout",
     "output_type": "stream",
     "text": [
      "int32\n",
      "int32\n",
      "int32\n"
     ]
    }
   ],
   "source": [
    "#dtype\n",
    "print(a1.dtype)\n",
    "print(a2.dtype)\n",
    "print(a3.dtype)"
   ]
  },
  {
   "cell_type": "markdown",
   "id": "5c38465b-9ecb-4758-b08c-ac41f061c016",
   "metadata": {},
   "source": [
    "# changing Datatypes"
   ]
  },
  {
   "cell_type": "code",
   "execution_count": 62,
   "id": "de5f843b-5396-436f-a72d-7eecc899539d",
   "metadata": {},
   "outputs": [
    {
     "data": {
      "text/plain": [
       "array([0, 1, 2, 3, 4, 5, 6, 7, 8, 9], dtype=int8)"
      ]
     },
     "execution_count": 62,
     "metadata": {},
     "output_type": "execute_result"
    }
   ],
   "source": [
    "#astype--->saves memory space\n",
    "a1.dtype #int32\n",
    "#a1.astype('int8') \n",
    "a1.astype(np.int8)"
   ]
  },
  {
   "cell_type": "markdown",
   "id": "0deba5c5-805d-4c4f-9c72-d2443071b6d4",
   "metadata": {},
   "source": [
    "# Array operations"
   ]
  },
  {
   "cell_type": "code",
   "execution_count": 66,
   "id": "fe3baaad-46e5-4dda-80f4-69a14001897a",
   "metadata": {},
   "outputs": [],
   "source": [
    "a1=np.arange(12).reshape(3,4)\n",
    "a2=np.arange(12,24).reshape(3,4)"
   ]
  },
  {
   "cell_type": "raw",
   "id": "d142bef5-2e87-4aff-aad1-38c00505fb0f",
   "metadata": {},
   "source": [
    "scalar opeations"
   ]
  },
  {
   "cell_type": "code",
   "execution_count": 68,
   "id": "f52b9589-b266-433e-bdc7-3a7714cc59e7",
   "metadata": {},
   "outputs": [
    {
     "data": {
      "text/plain": [
       "array([[ 0,  2,  4,  6],\n",
       "       [ 8, 10, 12, 14],\n",
       "       [16, 18, 20, 22]])"
      ]
     },
     "execution_count": 68,
     "metadata": {},
     "output_type": "execute_result"
    }
   ],
   "source": [
    "#arithmetic\n",
    "a1*2      \n"
   ]
  },
  {
   "cell_type": "code",
   "execution_count": 71,
   "id": "1b559bc9-ca86-4a30-b67e-f0628d63fe43",
   "metadata": {},
   "outputs": [
    {
     "data": {
      "text/plain": [
       "array([[False, False, False, False],\n",
       "       [False, False,  True,  True],\n",
       "       [ True,  True,  True,  True]])"
      ]
     },
     "execution_count": 71,
     "metadata": {},
     "output_type": "execute_result"
    }
   ],
   "source": [
    "#relational\n",
    "a1>5"
   ]
  },
  {
   "cell_type": "raw",
   "id": "47caada0-90c9-4b66-9a83-2d1db0c6a571",
   "metadata": {},
   "source": [
    "vector operations"
   ]
  },
  {
   "cell_type": "code",
   "execution_count": 73,
   "id": "b13af621-5cba-42f6-8039-9d53f75bb2c7",
   "metadata": {},
   "outputs": [
    {
     "data": {
      "text/plain": [
       "array([[12, 14, 16, 18],\n",
       "       [20, 22, 24, 26],\n",
       "       [28, 30, 32, 34]])"
      ]
     },
     "execution_count": 73,
     "metadata": {},
     "output_type": "execute_result"
    }
   ],
   "source": [
    "#arithmetic\n",
    "a1+a2  #element-wise addition"
   ]
  },
  {
   "cell_type": "code",
   "execution_count": 76,
   "id": "028f3fb7-327e-44d7-a704-ca4c1f61a7cd",
   "metadata": {},
   "outputs": [
    {
     "data": {
      "text/plain": [
       "array([[          0,           1,       16384,    14348907],\n",
       "       [          0, -1564725563,  1159987200,   442181591],\n",
       "       [          0,  1914644777, -1304428544,  -122979837]])"
      ]
     },
     "execution_count": 76,
     "metadata": {},
     "output_type": "execute_result"
    }
   ],
   "source": [
    "a1**a2"
   ]
  },
  {
   "cell_type": "markdown",
   "id": "25785291-d125-4a1d-8439-0009e0c3e4ed",
   "metadata": {},
   "source": [
    "# Array Functions"
   ]
  },
  {
   "cell_type": "code",
   "execution_count": 79,
   "id": "f5f4ff90-fb11-44df-87d1-da3fa75b2107",
   "metadata": {},
   "outputs": [
    {
     "data": {
      "text/plain": [
       "array([[13.,  1., 69.],\n",
       "       [ 0., 47., 37.],\n",
       "       [44., 21., 95.]])"
      ]
     },
     "execution_count": 79,
     "metadata": {},
     "output_type": "execute_result"
    }
   ],
   "source": [
    "a1=np.random.random(9).reshape(3,3)\n",
    "a2=np.round(a1*100)"
   ]
  },
  {
   "cell_type": "code",
   "execution_count": 89,
   "id": "99bd72c0-398d-4595-8051-493b87644831",
   "metadata": {},
   "outputs": [
    {
     "data": {
      "text/plain": [
       "array([ 1.,  0., 21.])"
      ]
     },
     "execution_count": 89,
     "metadata": {},
     "output_type": "execute_result"
    }
   ],
   "source": [
    "#min/mx/sum/prod\n",
    "'a2.min()'\n",
    "a2.min(axis=1) # axis= 0 (col) or 1 (row)\n",
    "\"np.min(a2,axis=1)\n",
    "#a2.max()\n",
    "#a2.sum()\n",
    "#a3.prod()"
   ]
  },
  {
   "cell_type": "code",
   "execution_count": 97,
   "id": "111ecd73-a78e-45c3-b507-a87d5db8cb4f",
   "metadata": {},
   "outputs": [
    {
     "data": {
      "text/plain": [
       "array([0.13383944, 0.36926273, 0.44014391])"
      ]
     },
     "execution_count": 97,
     "metadata": {},
     "output_type": "execute_result"
    }
   ],
   "source": [
    "#mean/median/std/var\n",
    "np.mean(a1,axis=1)\n",
    "np.median(a1,axis=1)\n",
    "#np.std(a1,axis=0)\n",
    "#np.var(a1,axis=0)"
   ]
  },
  {
   "cell_type": "code",
   "execution_count": 98,
   "id": "8c42b650-5189-426a-a228-c9aea925b074",
   "metadata": {},
   "outputs": [
    {
     "data": {
      "text/plain": [
       "array([[0.13344022, 0.01393633, 0.63270105],\n",
       "       [0.00494209, 0.4552409 , 0.36092796],\n",
       "       [0.42606966, 0.20789611, 0.81182164]])"
      ]
     },
     "execution_count": 98,
     "metadata": {},
     "output_type": "execute_result"
    }
   ],
   "source": [
    "# trigonomoetric functions\n",
    "np.sin(a1)"
   ]
  },
  {
   "cell_type": "code",
   "execution_count": 102,
   "id": "a69f0afd-6b26-452d-8fbf-8e2001ec1c93",
   "metadata": {},
   "outputs": [],
   "source": [
    "# Dot product >\n",
    "a1=np.arange(8).reshape(4,2)\n",
    "a2=np.arange(8).reshape(2,4)"
   ]
  },
  {
   "cell_type": "code",
   "execution_count": 103,
   "id": "7c0cb087-671e-4b18-855a-6f6ac73739f8",
   "metadata": {},
   "outputs": [
    {
     "data": {
      "text/plain": [
       "array([[ 4,  5,  6,  7],\n",
       "       [12, 17, 22, 27],\n",
       "       [20, 29, 38, 47],\n",
       "       [28, 41, 54, 67]])"
      ]
     },
     "execution_count": 103,
     "metadata": {},
     "output_type": "execute_result"
    }
   ],
   "source": [
    "np.dot(a1,a2)"
   ]
  },
  {
   "cell_type": "code",
   "execution_count": 106,
   "id": "37384704-8455-4e7f-8af9-be16fbef0884",
   "metadata": {},
   "outputs": [
    {
     "name": "stderr",
     "output_type": "stream",
     "text": [
      "C:\\Users\\aishw\\AppData\\Local\\Temp\\ipykernel_15148\\230371989.py:2: RuntimeWarning: divide by zero encountered in log\n",
      "  np.log(a2)\n"
     ]
    },
    {
     "data": {
      "text/plain": [
       "array([[1.00000000e+00, 2.71828183e+00],\n",
       "       [7.38905610e+00, 2.00855369e+01],\n",
       "       [5.45981500e+01, 1.48413159e+02],\n",
       "       [4.03428793e+02, 1.09663316e+03]])"
      ]
     },
     "execution_count": 106,
     "metadata": {},
     "output_type": "execute_result"
    }
   ],
   "source": [
    "#np.log and np.exponents\n",
    "np.log(a2)\n",
    "np.exp(a1)"
   ]
  },
  {
   "cell_type": "code",
   "execution_count": 118,
   "id": "657bdecc-165b-4d50-9861-0b0496e925a1",
   "metadata": {},
   "outputs": [
    {
     "data": {
      "text/plain": [
       "array([[33., 75., 41.],\n",
       "       [92., 70., 88.],\n",
       "       [99., 50., 83.]])"
      ]
     },
     "execution_count": 118,
     "metadata": {},
     "output_type": "execute_result"
    }
   ],
   "source": [
    "#round/floor/ceil\n",
    "r=np.random.random((3,3))*100\n",
    "np.floor(r)\n",
    "np.ceil(r)"
   ]
  },
  {
   "cell_type": "markdown",
   "id": "df510d9c-e142-420f-9973-8125f68abf54",
   "metadata": {},
   "source": [
    "# indexing and slicing"
   ]
  },
  {
   "cell_type": "code",
   "execution_count": 125,
   "id": "e3918835-ceae-4e3a-bd8d-adec0803702b",
   "metadata": {},
   "outputs": [],
   "source": [
    "a1=np.arange(10)\n",
    "a2=np.arange(12).reshape(3,4)\n",
    "a3=np.arange(8).reshape(2,2,2)"
   ]
  },
  {
   "cell_type": "code",
   "execution_count": 132,
   "id": "48e90e13-e37b-42f4-8f81-b865c664fc31",
   "metadata": {},
   "outputs": [
    {
     "data": {
      "text/plain": [
       "0"
      ]
     },
     "execution_count": 132,
     "metadata": {},
     "output_type": "execute_result"
    }
   ],
   "source": [
    "a1[0] # a1[-10]"
   ]
  },
  {
   "cell_type": "code",
   "execution_count": 134,
   "id": "304feeee-5517-4980-bf6d-fbd28dfd56dd",
   "metadata": {},
   "outputs": [
    {
     "data": {
      "text/plain": [
       "1"
      ]
     },
     "execution_count": 134,
     "metadata": {},
     "output_type": "execute_result"
    }
   ],
   "source": [
    "a2[0][1] #2d indexing"
   ]
  },
  {
   "cell_type": "code",
   "execution_count": 137,
   "id": "b8f667f2-84c5-48d7-b0fe-da55ff62900f",
   "metadata": {},
   "outputs": [
    {
     "data": {
      "text/plain": [
       "6"
      ]
     },
     "execution_count": 137,
     "metadata": {},
     "output_type": "execute_result"
    }
   ],
   "source": [
    "a2[1,2]"
   ]
  },
  {
   "cell_type": "code",
   "execution_count": 141,
   "id": "78b97c1c-9eb0-4ee4-a16b-f2997d0b041b",
   "metadata": {},
   "outputs": [
    {
     "data": {
      "text/plain": [
       "7"
      ]
     },
     "execution_count": 141,
     "metadata": {},
     "output_type": "execute_result"
    }
   ],
   "source": [
    "a3[1,1,1] #3d indexing"
   ]
  },
  {
   "cell_type": "code",
   "execution_count": 143,
   "id": "d7d00e24-fb8e-4f97-adab-26d019c46109",
   "metadata": {},
   "outputs": [
    {
     "data": {
      "text/plain": [
       "array([2, 3, 4])"
      ]
     },
     "execution_count": 143,
     "metadata": {},
     "output_type": "execute_result"
    }
   ],
   "source": [
    "a1[2:5] #slicing"
   ]
  },
  {
   "cell_type": "code",
   "execution_count": 147,
   "id": "5521f59e-08dc-4063-b708-78aa0caa6284",
   "metadata": {},
   "outputs": [
    {
     "data": {
      "text/plain": [
       "array([[0, 1],\n",
       "       [4, 5],\n",
       "       [8, 9]])"
      ]
     },
     "execution_count": 147,
     "metadata": {},
     "output_type": "execute_result"
    }
   ],
   "source": [
    "a2[ : ,: 2] "
   ]
  },
  {
   "cell_type": "code",
   "execution_count": 150,
   "id": "27773c36-c378-47f1-8b91-136cffd71ef0",
   "metadata": {},
   "outputs": [
    {
     "data": {
      "text/plain": [
       "array([[[ 0,  1,  2],\n",
       "        [ 3,  4,  5],\n",
       "        [ 6,  7,  8]],\n",
       "\n",
       "       [[ 9, 10, 11],\n",
       "        [12, 13, 14],\n",
       "        [15, 16, 17]],\n",
       "\n",
       "       [[18, 19, 20],\n",
       "        [21, 22, 23],\n",
       "        [24, 25, 26]]])"
      ]
     },
     "execution_count": 150,
     "metadata": {},
     "output_type": "execute_result"
    }
   ],
   "source": [
    "a3=np.arange(27).reshape(3,3,3)\n",
    "a3"
   ]
  },
  {
   "cell_type": "code",
   "execution_count": 156,
   "id": "cd8742b2-f963-411a-980c-0c8e2364139e",
   "metadata": {},
   "outputs": [
    {
     "data": {
      "text/plain": [
       "array([3, 4, 5])"
      ]
     },
     "execution_count": 156,
     "metadata": {},
     "output_type": "execute_result"
    }
   ],
   "source": [
    "a3[0,1,:]"
   ]
  },
  {
   "cell_type": "code",
   "execution_count": 157,
   "id": "61f51a1a-edd0-4904-a792-6e71855825d4",
   "metadata": {},
   "outputs": [
    {
     "data": {
      "text/plain": [
       "array([10, 13, 16])"
      ]
     },
     "execution_count": 157,
     "metadata": {},
     "output_type": "execute_result"
    }
   ],
   "source": [
    "a3[1,:,1]"
   ]
  },
  {
   "cell_type": "code",
   "execution_count": 158,
   "id": "88fc0e46-5803-4007-a237-537879682a28",
   "metadata": {},
   "outputs": [
    {
     "data": {
      "text/plain": [
       "array([[22, 23],\n",
       "       [25, 26]])"
      ]
     },
     "execution_count": 158,
     "metadata": {},
     "output_type": "execute_result"
    }
   ],
   "source": [
    "a3[2,1:,1:]"
   ]
  },
  {
   "cell_type": "code",
   "execution_count": 172,
   "id": "3b57f2d7-658e-4920-96db-b77a627f0836",
   "metadata": {},
   "outputs": [
    {
     "data": {
      "text/plain": [
       "array([[ 0,  2],\n",
       "       [18, 20]])"
      ]
     },
     "execution_count": 172,
     "metadata": {},
     "output_type": "execute_result"
    }
   ],
   "source": [
    "a3[: :2,0,: :2]"
   ]
  },
  {
   "cell_type": "markdown",
   "id": "1a50e232-d5f5-40eb-8a20-fe108de58282",
   "metadata": {},
   "source": [
    "# Iterating\n"
   ]
  },
  {
   "cell_type": "code",
   "execution_count": 176,
   "id": "373ac458-b9f8-4cbe-9586-8cc68ab5200e",
   "metadata": {},
   "outputs": [
    {
     "name": "stdout",
     "output_type": "stream",
     "text": [
      "0\n",
      "1\n",
      "2\n",
      "3\n",
      "4\n",
      "5\n",
      "6\n",
      "7\n",
      "8\n",
      "9\n"
     ]
    }
   ],
   "source": [
    "a1\n",
    "for i in a1:\n",
    "    print(i)"
   ]
  },
  {
   "cell_type": "code",
   "execution_count": 178,
   "id": "90c3f218-2bde-4fb0-9455-18468f9c2c9d",
   "metadata": {},
   "outputs": [
    {
     "name": "stdout",
     "output_type": "stream",
     "text": [
      "[0 1 2 3]\n",
      "[4 5 6 7]\n",
      "[ 8  9 10 11]\n"
     ]
    }
   ],
   "source": [
    "a2\n",
    "for i in a2:\n",
    "    print(i)  "
   ]
  },
  {
   "cell_type": "code",
   "execution_count": 179,
   "id": "fdc85c9f-44f5-409f-8f53-2bccb611bb2b",
   "metadata": {},
   "outputs": [
    {
     "name": "stdout",
     "output_type": "stream",
     "text": [
      "[[0 1 2]\n",
      " [3 4 5]\n",
      " [6 7 8]]\n",
      "[[ 9 10 11]\n",
      " [12 13 14]\n",
      " [15 16 17]]\n",
      "[[18 19 20]\n",
      " [21 22 23]\n",
      " [24 25 26]]\n"
     ]
    }
   ],
   "source": [
    "a3\n",
    "for i in a3:\n",
    "    print(i)"
   ]
  },
  {
   "cell_type": "code",
   "execution_count": 180,
   "id": "65911048-981d-4645-9363-718cb53b03b0",
   "metadata": {},
   "outputs": [
    {
     "name": "stdout",
     "output_type": "stream",
     "text": [
      "0\n",
      "1\n",
      "2\n",
      "3\n",
      "4\n",
      "5\n",
      "6\n",
      "7\n",
      "8\n",
      "9\n",
      "10\n",
      "11\n",
      "12\n",
      "13\n",
      "14\n",
      "15\n",
      "16\n",
      "17\n",
      "18\n",
      "19\n",
      "20\n",
      "21\n",
      "22\n",
      "23\n",
      "24\n",
      "25\n",
      "26\n"
     ]
    }
   ],
   "source": [
    "#np.nditer coverts 3D to 1D\n",
    "for i in np.nditer(a3): \n",
    "    print(i)"
   ]
  },
  {
   "cell_type": "markdown",
   "id": "411b2c91-c1a1-49f5-b922-5b6b06350aa2",
   "metadata": {},
   "source": [
    "# reshaping"
   ]
  },
  {
   "cell_type": "markdown",
   "id": "11c07d3e-aa48-4768-9915-74bbda64e078",
   "metadata": {},
   "source": [
    "-reshape\n",
    "-Transpose\n",
    "-ravel"
   ]
  },
  {
   "cell_type": "code",
   "execution_count": 181,
   "id": "01f3b867-9ac8-45fe-9d92-83071a3dc88b",
   "metadata": {},
   "outputs": [
    {
     "data": {
      "text/plain": [
       "array([[ 0,  1,  2,  3],\n",
       "       [ 4,  5,  6,  7],\n",
       "       [ 8,  9, 10, 11]])"
      ]
     },
     "execution_count": 181,
     "metadata": {},
     "output_type": "execute_result"
    }
   ],
   "source": [
    "a2"
   ]
  },
  {
   "cell_type": "code",
   "execution_count": 184,
   "id": "9ce3a9b4-7979-4440-b29c-59875a6bf47c",
   "metadata": {},
   "outputs": [
    {
     "data": {
      "text/plain": [
       "array([[ 0,  4,  8],\n",
       "       [ 1,  5,  9],\n",
       "       [ 2,  6, 10],\n",
       "       [ 3,  7, 11]])"
      ]
     },
     "execution_count": 184,
     "metadata": {},
     "output_type": "execute_result"
    }
   ],
   "source": [
    "#np.transpose(a2)\n",
    "a2.T"
   ]
  },
  {
   "cell_type": "code",
   "execution_count": 185,
   "id": "f7fa78aa-2e41-4d14-a9e9-1548fd25f762",
   "metadata": {},
   "outputs": [
    {
     "data": {
      "text/plain": [
       "array([ 0,  1,  2,  3,  4,  5,  6,  7,  8,  9, 10, 11])"
      ]
     },
     "execution_count": 185,
     "metadata": {},
     "output_type": "execute_result"
    }
   ],
   "source": [
    "#ravel --->converts to 1D\n",
    "a2.ravel()"
   ]
  },
  {
   "cell_type": "markdown",
   "id": "d09fd138-e607-4a5a-a370-59020c4ca999",
   "metadata": {},
   "source": [
    "# stacking"
   ]
  },
  {
   "cell_type": "code",
   "execution_count": 187,
   "id": "0f7acc3a-b006-4611-9dd9-01206e6420f7",
   "metadata": {},
   "outputs": [],
   "source": [
    "#horizontal stacking\n",
    "a1=np.arange(12).reshape(3,4)\n",
    "a2=np.arange(12,24).reshape(3,4)"
   ]
  },
  {
   "cell_type": "code",
   "execution_count": 195,
   "id": "8b77e325-588a-4646-ab65-bc58ff2812f6",
   "metadata": {},
   "outputs": [
    {
     "data": {
      "text/plain": [
       "array([[ 0,  1,  2,  3, 12, 13, 14, 15],\n",
       "       [ 4,  5,  6,  7, 16, 17, 18, 19],\n",
       "       [ 8,  9, 10, 11, 20, 21, 22, 23]])"
      ]
     },
     "execution_count": 195,
     "metadata": {},
     "output_type": "execute_result"
    }
   ],
   "source": [
    "s=np.hstack((a1,a2))\n",
    "s"
   ]
  },
  {
   "cell_type": "code",
   "execution_count": 192,
   "id": "3e071899-bb07-49f0-b65d-2e52bbc7c3b6",
   "metadata": {},
   "outputs": [
    {
     "data": {
      "text/plain": [
       "array([[ 0,  1,  2,  3],\n",
       "       [ 4,  5,  6,  7],\n",
       "       [ 8,  9, 10, 11],\n",
       "       [12, 13, 14, 15],\n",
       "       [16, 17, 18, 19],\n",
       "       [20, 21, 22, 23]])"
      ]
     },
     "execution_count": 192,
     "metadata": {},
     "output_type": "execute_result"
    }
   ],
   "source": [
    "#vertical stacking\n",
    "np.vstack((a1,a2))"
   ]
  },
  {
   "cell_type": "markdown",
   "id": "bff32b9d-cc67-41a1-bed5-ed4f24815660",
   "metadata": {},
   "source": [
    "# splitting "
   ]
  },
  {
   "cell_type": "code",
   "execution_count": 196,
   "id": "2de57479-f675-4512-a999-683f0c264f37",
   "metadata": {},
   "outputs": [
    {
     "data": {
      "text/plain": [
       "array([[ 0,  1,  2,  3, 12, 13, 14, 15],\n",
       "       [ 4,  5,  6,  7, 16, 17, 18, 19],\n",
       "       [ 8,  9, 10, 11, 20, 21, 22, 23]])"
      ]
     },
     "execution_count": 196,
     "metadata": {},
     "output_type": "execute_result"
    }
   ],
   "source": [
    "#horizontal splitting\n",
    "s"
   ]
  },
  {
   "cell_type": "code",
   "execution_count": 199,
   "id": "b9f47652-9f18-4594-b808-13f5965ad728",
   "metadata": {},
   "outputs": [
    {
     "data": {
      "text/plain": [
       "[array([[ 0,  1,  2,  3],\n",
       "        [ 4,  5,  6,  7],\n",
       "        [ 8,  9, 10, 11]]),\n",
       " array([[12, 13, 14, 15],\n",
       "        [16, 17, 18, 19],\n",
       "        [20, 21, 22, 23]])]"
      ]
     },
     "execution_count": 199,
     "metadata": {},
     "output_type": "execute_result"
    }
   ],
   "source": [
    "np.hsplit(s,2)"
   ]
  },
  {
   "cell_type": "code",
   "execution_count": null,
   "id": "f61f629d-bc63-404f-93d6-575f2e32d700",
   "metadata": {},
   "outputs": [],
   "source": [
    "np.vsplit("
   ]
  },
  {
   "cell_type": "code",
   "execution_count": null,
   "id": "26ea149b-3896-4955-a2e6-55dbd1fa56f5",
   "metadata": {},
   "outputs": [],
   "source": []
  },
  {
   "cell_type": "code",
   "execution_count": null,
   "id": "8c61b76c-2a8c-466a-96e3-a32da8e94f32",
   "metadata": {},
   "outputs": [],
   "source": []
  },
  {
   "cell_type": "code",
   "execution_count": null,
   "id": "9d3b936d-e078-4789-a51a-ae5d77e86d3e",
   "metadata": {},
   "outputs": [],
   "source": []
  },
  {
   "cell_type": "code",
   "execution_count": null,
   "id": "816a4df5-b836-423d-8947-b537e4fffea5",
   "metadata": {},
   "outputs": [],
   "source": []
  },
  {
   "cell_type": "code",
   "execution_count": null,
   "id": "4a221538-7018-4c60-85c5-19cfc561035a",
   "metadata": {},
   "outputs": [],
   "source": []
  }
 ],
 "metadata": {
  "kernelspec": {
   "display_name": "Python 3 (ipykernel)",
   "language": "python",
   "name": "python3"
  },
  "language_info": {
   "codemirror_mode": {
    "name": "ipython",
    "version": 3
   },
   "file_extension": ".py",
   "mimetype": "text/x-python",
   "name": "python",
   "nbconvert_exporter": "python",
   "pygments_lexer": "ipython3",
   "version": "3.11.7"
  }
 },
 "nbformat": 4,
 "nbformat_minor": 5
}
