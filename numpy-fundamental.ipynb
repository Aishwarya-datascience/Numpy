{
 "cells": [
  {
   "cell_type": "code",
   "execution_count": 1,
   "id": "8feb3ec5-faa9-466b-b871-8d271de351ca",
   "metadata": {},
   "outputs": [],
   "source": [
    "import numpy as np"
   ]
  },
  {
   "cell_type": "markdown",
   "id": "49a7a5e8-3534-4166-8634-1ab16a41ad2a",
   "metadata": {},
   "source": [
    "# Creating Numpy Arrays"
   ]
  },
  {
   "cell_type": "raw",
   "id": "8d3d7dc3-f357-4d4a-aa37-3aec29a5a799",
   "metadata": {},
   "source": [
    "#np.array\n",
    "#np.arange\n",
    "#np.random with reshape\n",
    "#np.ones and np.zeros\n",
    "#np.linspace\n",
    "#np.indentity\n",
    "#np.eye\n",
    "#np.full"
   ]
  },
  {
   "cell_type": "code",
   "execution_count": 2,
   "id": "8132bfce-bf6f-44d0-9bae-ccd415bc499c",
   "metadata": {},
   "outputs": [
    {
     "name": "stdout",
     "output_type": "stream",
     "text": [
      "[1 2 3]\n",
      "<class 'numpy.ndarray'>\n"
     ]
    }
   ],
   "source": [
    "#np.array\n",
    "n=np.array([1,2,3])\n",
    "print(n) #1D or vector\n",
    "print(type(n))"
   ]
  },
  {
   "cell_type": "code",
   "execution_count": 3,
   "id": "e670f0d5-dc80-47b3-abec-ba1673482907",
   "metadata": {},
   "outputs": [
    {
     "name": "stdout",
     "output_type": "stream",
     "text": [
      "[[1 2 3]\n",
      " [3 2 1]]\n"
     ]
    }
   ],
   "source": [
    "#2D\n",
    "n1=np.array([[1,2,3],[3,2,1]])\n",
    "print(n1) #2D or matrix"
   ]
  },
  {
   "cell_type": "code",
   "execution_count": 4,
   "id": "f457706b-d446-4d9d-9fb6-b9907bfddd41",
   "metadata": {},
   "outputs": [
    {
     "name": "stdout",
     "output_type": "stream",
     "text": [
      "[[[1 2]\n",
      "  [3 4]]\n",
      "\n",
      " [[4 3]\n",
      "  [2 1]]]\n"
     ]
    }
   ],
   "source": [
    "#3D\n",
    "n2=np.array([[[1,2],[3,4]],[[4,3],[2,1]]])\n",
    "print(n2) "
   ]
  },
  {
   "cell_type": "code",
   "execution_count": 5,
   "id": "6558b0c7-a044-4b60-a1cc-5a7da1eb4561",
   "metadata": {},
   "outputs": [
    {
     "name": "stdout",
     "output_type": "stream",
     "text": [
      "[1. 2. 3.]\n"
     ]
    }
   ],
   "source": [
    "# dtype\n",
    "n3=np.array([1,2,3],dtype=float)\n",
    "print(n3)"
   ]
  },
  {
   "cell_type": "code",
   "execution_count": 6,
   "id": "3944f072-9cc7-44d7-ad4c-5da2b1724b25",
   "metadata": {},
   "outputs": [
    {
     "data": {
      "text/plain": [
       "'np.arange(1,11,2)'"
      ]
     },
     "execution_count": 6,
     "metadata": {},
     "output_type": "execute_result"
    }
   ],
   "source": [
    "#np.arange -->same like range() in python\n",
    "np.arange(1,11) #last value excluded\n",
    "'np.arange(1,11,2)'"
   ]
  },
  {
   "cell_type": "code",
   "execution_count": 7,
   "id": "d33ddca9-ff4b-4bfe-92f0-f5cdc156a3e2",
   "metadata": {},
   "outputs": [
    {
     "data": {
      "text/plain": [
       "array([[ 1,  2],\n",
       "       [ 3,  4],\n",
       "       [ 5,  6],\n",
       "       [ 7,  8],\n",
       "       [ 9, 10]])"
      ]
     },
     "execution_count": 7,
     "metadata": {},
     "output_type": "execute_result"
    }
   ],
   "source": [
    "#np.arange with reshape --->converting given one Dimension to other Dimension\n",
    "np.arange(1,11).reshape(5,2)"
   ]
  },
  {
   "cell_type": "code",
   "execution_count": 8,
   "id": "b1cf2fe7-fa88-42f2-900b-a66bac1c132e",
   "metadata": {},
   "outputs": [
    {
     "data": {
      "text/plain": [
       "array([[1, 1, 1, 1],\n",
       "       [1, 1, 1, 1],\n",
       "       [1, 1, 1, 1]])"
      ]
     },
     "execution_count": 8,
     "metadata": {},
     "output_type": "execute_result"
    }
   ],
   "source": [
    "#np.ones \n",
    "np.ones((3,4),dtype=int)"
   ]
  },
  {
   "cell_type": "code",
   "execution_count": 9,
   "id": "d8572755-fcfd-4182-b237-4de5bf7b6ac2",
   "metadata": {},
   "outputs": [
    {
     "data": {
      "text/plain": [
       "array([[0., 0.],\n",
       "       [0., 0.],\n",
       "       [0., 0.]])"
      ]
     },
     "execution_count": 9,
     "metadata": {},
     "output_type": "execute_result"
    }
   ],
   "source": [
    "#np.zeros()\n",
    "np.zeros((3,2))"
   ]
  },
  {
   "cell_type": "code",
   "execution_count": 10,
   "id": "8e471fce-9c87-4ab5-a0a9-ba67822532b3",
   "metadata": {},
   "outputs": [
    {
     "data": {
      "text/plain": [
       "array([[0.37152208, 0.29246028, 0.06065628, 0.11410963],\n",
       "       [0.26467796, 0.63179497, 0.19468014, 0.4587636 ],\n",
       "       [0.66187018, 0.58115527, 0.76724935, 0.51611958]])"
      ]
     },
     "execution_count": 10,
     "metadata": {},
     "output_type": "execute_result"
    }
   ],
   "source": [
    "#np.random\n",
    "np.random.random((3,4))"
   ]
  },
  {
   "cell_type": "code",
   "execution_count": 11,
   "id": "3634f916-4d11-41b6-86d2-931274d5aed7",
   "metadata": {},
   "outputs": [
    {
     "data": {
      "text/plain": [
       "array([-10.,  -5.,   0.,   5.,  10.])"
      ]
     },
     "execution_count": 11,
     "metadata": {},
     "output_type": "execute_result"
    }
   ],
   "source": [
    "#np.linspace --->linear space\n",
    "np.linspace(-10,10,5)"
   ]
  },
  {
   "cell_type": "code",
   "execution_count": 13,
   "id": "8d634722-338a-41c3-8fb2-911c2ce0ada1",
   "metadata": {},
   "outputs": [
    {
     "data": {
      "text/plain": [
       "array([[1., 0., 0.],\n",
       "       [0., 1., 0.],\n",
       "       [0., 0., 1.]])"
      ]
     },
     "execution_count": 13,
     "metadata": {},
     "output_type": "execute_result"
    }
   ],
   "source": [
    "#np.identity\n",
    "np.identity(3)"
   ]
  },
  {
   "cell_type": "code",
   "execution_count": 17,
   "id": "aebfecc9-43b4-4205-9922-c22c51c47193",
   "metadata": {},
   "outputs": [
    {
     "data": {
      "text/plain": [
       "array([[0., 1., 0.],\n",
       "       [0., 0., 1.],\n",
       "       [0., 0., 0.]])"
      ]
     },
     "execution_count": 17,
     "metadata": {},
     "output_type": "execute_result"
    }
   ],
   "source": [
    "#np.eye\n",
    "np.eye(3,3,k=1)"
   ]
  },
  {
   "cell_type": "code",
   "execution_count": 18,
   "id": "e2f7f281-5fd9-446f-8292-cf3435c6e1fa",
   "metadata": {},
   "outputs": [
    {
     "data": {
      "text/plain": [
       "array([[3, 3, 3],\n",
       "       [3, 3, 3],\n",
       "       [3, 3, 3]])"
      ]
     },
     "execution_count": 18,
     "metadata": {},
     "output_type": "execute_result"
    }
   ],
   "source": [
    "#np.full\n",
    "np.full((3,3),3)"
   ]
  },
  {
   "cell_type": "markdown",
   "id": "51a83f5f-274a-448e-9940-1aa2a91dc1b9",
   "metadata": {},
   "source": [
    "# Array Attributes"
   ]
  },
  {
   "cell_type": "code",
   "execution_count": 33,
   "id": "e6ca088a-86d0-4cea-9e71-3b334104ae42",
   "metadata": {},
   "outputs": [],
   "source": [
    "a1=np.arange(10)  #vector\n",
    "a2=np.arange(12).reshape(3,4) #matrix\n",
    "a3=np.arange(8).reshape(2,2,2) #tensor"
   ]
  },
  {
   "cell_type": "code",
   "execution_count": 22,
   "id": "8bff2aa3-3476-45e9-b619-68a5fd884a11",
   "metadata": {},
   "outputs": [
    {
     "data": {
      "text/plain": [
       "3"
      ]
     },
     "execution_count": 22,
     "metadata": {},
     "output_type": "execute_result"
    }
   ],
   "source": [
    "#ndim -->numder of dimensions\n",
    "'a1.ndim'\n",
    "a3.ndim"
   ]
  },
  {
   "cell_type": "code",
   "execution_count": 34,
   "id": "ffb7d1fb-67a4-4b3b-9573-e1f6d7ca8043",
   "metadata": {},
   "outputs": [
    {
     "data": {
      "text/plain": [
       "(2, 2, 2)"
      ]
     },
     "execution_count": 34,
     "metadata": {},
     "output_type": "execute_result"
    }
   ],
   "source": [
    "#shape\n",
    "a1.shape\n",
    "a2.shape\n",
    "a3.shape"
   ]
  },
  {
   "cell_type": "code",
   "execution_count": 37,
   "id": "f224ebee-44e7-46d2-8862-4264373cbcc4",
   "metadata": {},
   "outputs": [
    {
     "data": {
      "text/plain": [
       "12"
      ]
     },
     "execution_count": 37,
     "metadata": {},
     "output_type": "execute_result"
    }
   ],
   "source": [
    "#size -->numder of items \n",
    "a1.size\n",
    "a2.size"
   ]
  },
  {
   "cell_type": "code",
   "execution_count": 41,
   "id": "e0965997-d90e-4842-a9a4-d1a376fbf49c",
   "metadata": {},
   "outputs": [
    {
     "name": "stdout",
     "output_type": "stream",
     "text": [
      "On branch master\n",
      "\n",
      "No commits yet\n",
      "\n",
      "Untracked files:\n",
      "  (use \"git add <file>...\" to include in what will be committed)\n",
      "\t.ipynb_checkpoints/\n",
      "\tnumpy-fundamental.ipynb\n",
      "\n",
      "nothing added to commit but untracked files present (use \"git add\" to track)\n"
     ]
    }
   ],
   "source": [
    "!git status"
   ]
  },
  {
   "cell_type": "code",
   "execution_count": null,
   "id": "c306335e-c81f-4d1e-8d79-fc68e223ca33",
   "metadata": {},
   "outputs": [],
   "source": []
  },
  {
   "cell_type": "code",
   "execution_count": null,
   "id": "8ff42a08-48fa-4a01-bc02-2044ae8824ec",
   "metadata": {},
   "outputs": [],
   "source": []
  },
  {
   "cell_type": "code",
   "execution_count": null,
   "id": "de5f843b-5396-436f-a72d-7eecc899539d",
   "metadata": {},
   "outputs": [],
   "source": []
  },
  {
   "cell_type": "code",
   "execution_count": null,
   "id": "e21307a4-e1fb-4bf1-8421-12819abb0a7c",
   "metadata": {},
   "outputs": [],
   "source": []
  },
  {
   "cell_type": "code",
   "execution_count": null,
   "id": "fe3baaad-46e5-4dda-80f4-69a14001897a",
   "metadata": {},
   "outputs": [],
   "source": []
  },
  {
   "cell_type": "code",
   "execution_count": null,
   "id": "f52b9589-b266-433e-bdc7-3a7714cc59e7",
   "metadata": {},
   "outputs": [],
   "source": []
  },
  {
   "cell_type": "code",
   "execution_count": null,
   "id": "1b559bc9-ca86-4a30-b67e-f0628d63fe43",
   "metadata": {},
   "outputs": [],
   "source": []
  },
  {
   "cell_type": "code",
   "execution_count": null,
   "id": "3e1665cd-f0fa-4e73-afb9-6f1e4da1000f",
   "metadata": {},
   "outputs": [],
   "source": []
  },
  {
   "cell_type": "code",
   "execution_count": null,
   "id": "b13af621-5cba-42f6-8039-9d53f75bb2c7",
   "metadata": {},
   "outputs": [],
   "source": []
  },
  {
   "cell_type": "code",
   "execution_count": null,
   "id": "028f3fb7-327e-44d7-a704-ca4c1f61a7cd",
   "metadata": {},
   "outputs": [],
   "source": []
  },
  {
   "cell_type": "code",
   "execution_count": null,
   "id": "1268f1e8-6fc7-41ef-9a22-3a9c53f3f078",
   "metadata": {},
   "outputs": [],
   "source": []
  },
  {
   "cell_type": "code",
   "execution_count": null,
   "id": "f5f4ff90-fb11-44df-87d1-da3fa75b2107",
   "metadata": {},
   "outputs": [],
   "source": []
  },
  {
   "cell_type": "code",
   "execution_count": null,
   "id": "99bd72c0-398d-4595-8051-493b87644831",
   "metadata": {},
   "outputs": [],
   "source": []
  },
  {
   "cell_type": "code",
   "execution_count": null,
   "id": "111ecd73-a78e-45c3-b507-a87d5db8cb4f",
   "metadata": {},
   "outputs": [],
   "source": []
  },
  {
   "cell_type": "code",
   "execution_count": null,
   "id": "8c42b650-5189-426a-a228-c9aea925b074",
   "metadata": {},
   "outputs": [],
   "source": []
  },
  {
   "cell_type": "code",
   "execution_count": null,
   "id": "a69f0afd-6b26-452d-8fbf-8e2001ec1c93",
   "metadata": {},
   "outputs": [],
   "source": []
  },
  {
   "cell_type": "code",
   "execution_count": null,
   "id": "7c0cb087-671e-4b18-855a-6f6ac73739f8",
   "metadata": {},
   "outputs": [],
   "source": []
  }
 ],
 "metadata": {
  "kernelspec": {
   "display_name": "Python 3 (ipykernel)",
   "language": "python",
   "name": "python3"
  },
  "language_info": {
   "codemirror_mode": {
    "name": "ipython",
    "version": 3
   },
   "file_extension": ".py",
   "mimetype": "text/x-python",
   "name": "python",
   "nbconvert_exporter": "python",
   "pygments_lexer": "ipython3",
   "version": "3.11.7"
  }
 },
 "nbformat": 4,
 "nbformat_minor": 5
}
